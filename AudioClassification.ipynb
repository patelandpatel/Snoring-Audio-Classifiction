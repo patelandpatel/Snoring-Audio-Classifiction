{
 "cells": [
  {
   "cell_type": "markdown",
   "metadata": {},
   "source": [
    "# 1. Import and Install Dependencies"
   ]
  },
  {
   "cell_type": "markdown",
   "metadata": {},
   "source": [
    "## 1.1 Install Dependencies"
   ]
  },
  {
   "cell_type": "markdown",
   "metadata": {},
   "source": [
    "## 1.2 Load Dependencies"
   ]
  },
  {
   "cell_type": "code",
   "execution_count": 66,
   "metadata": {
    "jupyter": {
     "source_hidden": true
    },
    "tags": []
   },
   "outputs": [],
   "source": [
    "import os\n",
    "from matplotlib import pyplot as plt\n",
    "import tensorflow as tf \n",
    "import tensorflow_io as tfio\n",
    "from keras.layers import Conv2D, MaxPooling2D, Activation, Dense, Flatten\n",
    "from keras.models import Sequential"
   ]
  },
  {
   "cell_type": "markdown",
   "metadata": {},
   "source": [
    "# 2. Build Data Loading Function"
   ]
  },
  {
   "cell_type": "markdown",
   "metadata": {},
   "source": [
    "## 2.1 Define Paths to Files"
   ]
  },
  {
   "cell_type": "code",
   "execution_count": 67,
   "metadata": {
    "jupyter": {
     "source_hidden": true
    },
    "tags": []
   },
   "outputs": [],
   "source": [
    "CAPUCHIN_FILE = os.path.join('data','snoring', '1.wav')\n",
    "NOT_CAPUCHIN_FILE = os.path.join('data', 'not_snoring', '190419_165_st12_Silent_1_1.wav')"
   ]
  },
  {
   "cell_type": "code",
   "execution_count": 68,
   "metadata": {},
   "outputs": [
    {
     "data": {
      "text/plain": [
       "('data\\\\snoring\\\\1.wav', 'data\\\\not_snoring\\\\190419_165_st12_Silent_1_1.wav')"
      ]
     },
     "execution_count": 68,
     "metadata": {},
     "output_type": "execute_result"
    }
   ],
   "source": [
    "CAPUCHIN_FILE,NOT_CAPUCHIN_FILE"
   ]
  },
  {
   "cell_type": "markdown",
   "metadata": {},
   "source": [
    "## 2.2 Build Dataloading Function"
   ]
  },
  {
   "cell_type": "code",
   "execution_count": 69,
   "metadata": {
    "jupyter": {
     "source_hidden": true
    },
    "tags": []
   },
   "outputs": [],
   "source": [
    "def load_wav_16k_mono(filename): # Converting audiofile in to 16hz and get single channel\n",
    "    # Load encoded wav file\n",
    "    file_contents = tf.io.read_file(filename)\n",
    "    # Decode wav (tensors by channels)   \n",
    "    wav, sample_rate = tf.audio.decode_wav(file_contents, desired_channels=1)\n",
    "    # Removes trailing axis\n",
    "    wav = tf.squeeze(wav, axis=-1)\n",
    "    sample_rate = tf.cast(sample_rate, dtype=tf.int64)\n",
    "    # Goes from 44100Hz to 16000hz - amplitude of the audio signal\n",
    "    wav = tfio.audio.resample(wav, rate_in=sample_rate, rate_out=16000)\n",
    "    return wav"
   ]
  },
  {
   "cell_type": "code",
   "execution_count": 70,
   "metadata": {},
   "outputs": [],
   "source": [
    "\n",
    "#file_contents = tf.io.read_file(CAPUCHIN_FILE)\n",
    "    # Decode wav (tensors by channels)   \n",
    "#wav, sample_rate = tf.audio.decode_wav(file_contents, desired_channels=1)\n",
    "#sample_rate\n",
    "#len(wav)\n",
    "#wav = tfio.audio.resample(wav, rate_in=sample_rate, rate_out=16000)\n",
    "#len(wav)"
   ]
  },
  {
   "cell_type": "markdown",
   "metadata": {},
   "source": [
    "## 2.3 Plot Wave"
   ]
  },
  {
   "cell_type": "code",
   "execution_count": 71,
   "metadata": {
    "jupyter": {
     "source_hidden": true
    },
    "tags": []
   },
   "outputs": [],
   "source": [
    "wave = load_wav_16k_mono(CAPUCHIN_FILE)\n",
    "nwave = load_wav_16k_mono(NOT_CAPUCHIN_FILE)"
   ]
  },
  {
   "cell_type": "code",
   "execution_count": 72,
   "metadata": {
    "jupyter": {
     "source_hidden": true
    },
    "tags": []
   },
   "outputs": [
    {
     "data": {
      "image/png": "[encoded data removed]",
      "text/plain": [
       "<Figure size 640x480 with 1 Axes>"
      ]
     },
     "metadata": {},
     "output_type": "display_data"
    }
   ],
   "source": [
    "plt.plot(wave)\n",
    "plt.plot(nwave)\n",
    "plt.show()"
   ]
  },
  {
   "cell_type": "markdown",
   "metadata": {},
   "source": [
    "# 3. Create Tensorflow Dataset"
   ]
  },
  {
   "cell_type": "markdown",
   "metadata": {},
   "source": [
    "## 3.1 Define Paths to Positive and Negative Data"
   ]
  },
  {
   "cell_type": "code",
   "execution_count": 73,
   "metadata": {
    "jupyter": {
     "source_hidden": true
    },
    "tags": []
   },
   "outputs": [],
   "source": [
    "POS = os.path.join('data', 'snoring')\n",
    "NEG = os.path.join('data', 'not_snoring')"
   ]
  },
  {
   "cell_type": "markdown",
   "metadata": {},
   "source": [
    "## 3.2 Create Tensorflow Datasets"
   ]
  },
  {
   "cell_type": "code",
   "execution_count": 74,
   "metadata": {
    "jupyter": {
     "source_hidden": true
    },
    "tags": []
   },
   "outputs": [],
   "source": [
    "pos = tf.data.Dataset.list_files(POS+'\\*.wav')\n",
    "neg = tf.data.Dataset.list_files(NEG+'\\*.wav')"
   ]
  },
  {
   "cell_type": "code",
   "execution_count": 75,
   "metadata": {},
   "outputs": [
    {
     "data": {
      "text/plain": [
       "b'data\\\\snoring\\\\Annotation_from_Ch_1_but_output_from_Ch_1_filename_190508_183_st12_SampleNo_41_from_1658_sec_to_1666_sec.wav'"
      ]
     },
     "execution_count": 75,
     "metadata": {},
     "output_type": "execute_result"
    }
   ],
   "source": [
    "pos.as_numpy_iterator().next()"
   ]
  },
  {
   "cell_type": "code",
   "execution_count": 76,
   "metadata": {},
   "outputs": [
    {
     "data": {
      "text/plain": [
       "(<tf.Tensor: shape=(300,), dtype=float32, numpy=\n",
       " array([1., 1., 1., 1., 1., 1., 1., 1., 1., 1., 1., 1., 1., 1., 1., 1., 1.,\n",
       "        1., 1., 1., 1., 1., 1., 1., 1., 1., 1., 1., 1., 1., 1., 1., 1., 1.,\n",
       "        1., 1., 1., 1., 1., 1., 1., 1., 1., 1., 1., 1., 1., 1., 1., 1., 1.,\n",
       "        1., 1., 1., 1., 1., 1., 1., 1., 1., 1., 1., 1., 1., 1., 1., 1., 1.,\n",
       "        1., 1., 1., 1., 1., 1., 1., 1., 1., 1., 1., 1., 1., 1., 1., 1., 1.,\n",
       "        1., 1., 1., 1., 1., 1., 1., 1., 1., 1., 1., 1., 1., 1., 1., 1., 1.,\n",
       "        1., 1., 1., 1., 1., 1., 1., 1., 1., 1., 1., 1., 1., 1., 1., 1., 1.,\n",
       "        1., 1., 1., 1., 1., 1., 1., 1., 1., 1., 1., 1., 1., 1., 1., 1., 1.,\n",
       "        1., 1., 1., 1., 1., 1., 1., 1., 1., 1., 1., 1., 1., 1., 1., 1., 1.,\n",
       "        1., 1., 1., 1., 1., 1., 1., 1., 1., 1., 1., 1., 1., 1., 1., 1., 1.,\n",
       "        1., 1., 1., 1., 1., 1., 1., 1., 1., 1., 1., 1., 1., 1., 1., 1., 1.,\n",
       "        1., 1., 1., 1., 1., 1., 1., 1., 1., 1., 1., 1., 1., 1., 1., 1., 1.,\n",
       "        1., 1., 1., 1., 1., 1., 1., 1., 1., 1., 1., 1., 1., 1., 1., 1., 1.,\n",
       "        1., 1., 1., 1., 1., 1., 1., 1., 1., 1., 1., 1., 1., 1., 1., 1., 1.,\n",
       "        1., 1., 1., 1., 1., 1., 1., 1., 1., 1., 1., 1., 1., 1., 1., 1., 1.,\n",
       "        1., 1., 1., 1., 1., 1., 1., 1., 1., 1., 1., 1., 1., 1., 1., 1., 1.,\n",
       "        1., 1., 1., 1., 1., 1., 1., 1., 1., 1., 1., 1., 1., 1., 1., 1., 1.,\n",
       "        1., 1., 1., 1., 1., 1., 1., 1., 1., 1., 1.], dtype=float32)>,\n",
       " <tf.Tensor: shape=(682,), dtype=float32, numpy=\n",
       " array([1., 1., 1., 1., 1., 1., 1., 1., 1., 1., 1., 1., 1., 1., 1., 1., 1.,\n",
       "        1., 1., 1., 1., 1., 1., 1., 1., 1., 1., 1., 1., 1., 1., 1., 1., 1.,\n",
       "        1., 1., 1., 1., 1., 1., 1., 1., 1., 1., 1., 1., 1., 1., 1., 1., 1.,\n",
       "        1., 1., 1., 1., 1., 1., 1., 1., 1., 1., 1., 1., 1., 1., 1., 1., 1.,\n",
       "        1., 1., 1., 1., 1., 1., 1., 1., 1., 1., 1., 1., 1., 1., 1., 1., 1.,\n",
       "        1., 1., 1., 1., 1., 1., 1., 1., 1., 1., 1., 1., 1., 1., 1., 1., 1.,\n",
       "        1., 1., 1., 1., 1., 1., 1., 1., 1., 1., 1., 1., 1., 1., 1., 1., 1.,\n",
       "        1., 1., 1., 1., 1., 1., 1., 1., 1., 1., 1., 1., 1., 1., 1., 1., 1.,\n",
       "        1., 1., 1., 1., 1., 1., 1., 1., 1., 1., 1., 1., 1., 1., 1., 1., 1.,\n",
       "        1., 1., 1., 1., 1., 1., 1., 1., 1., 1., 1., 1., 1., 1., 1., 1., 1.,\n",
       "        1., 1., 1., 1., 1., 1., 1., 1., 1., 1., 1., 1., 1., 1., 1., 1., 1.,\n",
       "        1., 1., 1., 1., 1., 1., 1., 1., 1., 1., 1., 1., 1., 1., 1., 1., 1.,\n",
       "        1., 1., 1., 1., 1., 1., 1., 1., 1., 1., 1., 1., 1., 1., 1., 1., 1.,\n",
       "        1., 1., 1., 1., 1., 1., 1., 1., 1., 1., 1., 1., 1., 1., 1., 1., 1.,\n",
       "        1., 1., 1., 1., 1., 1., 1., 1., 1., 1., 1., 1., 1., 1., 1., 1., 1.,\n",
       "        1., 1., 1., 1., 1., 1., 1., 1., 1., 1., 1., 1., 1., 1., 1., 1., 1.,\n",
       "        1., 1., 1., 1., 1., 1., 1., 1., 1., 1., 1., 1., 1., 1., 1., 1., 1.,\n",
       "        1., 1., 1., 1., 1., 1., 1., 1., 1., 1., 1., 1., 1., 1., 1., 1., 1.,\n",
       "        1., 1., 1., 1., 1., 1., 1., 1., 1., 1., 1., 1., 1., 1., 1., 1., 1.,\n",
       "        1., 1., 1., 1., 1., 1., 1., 1., 1., 1., 1., 1., 1., 1., 1., 1., 1.,\n",
       "        1., 1., 1., 1., 1., 1., 1., 1., 1., 1., 1., 1., 1., 1., 1., 1., 1.,\n",
       "        1., 1., 1., 1., 1., 1., 1., 1., 1., 1., 1., 1., 1., 1., 1., 1., 1.,\n",
       "        1., 1., 1., 1., 1., 1., 1., 1., 1., 1., 1., 1., 1., 1., 1., 1., 1.,\n",
       "        1., 1., 1., 1., 1., 1., 1., 1., 1., 1., 1., 1., 1., 1., 1., 1., 1.,\n",
       "        1., 1., 1., 1., 1., 1., 1., 1., 1., 1., 1., 1., 1., 1., 1., 1., 1.,\n",
       "        1., 1., 1., 1., 1., 1., 1., 1., 1., 1., 1., 1., 1., 1., 1., 1., 1.,\n",
       "        1., 1., 1., 1., 1., 1., 1., 1., 1., 1., 1., 1., 1., 1., 1., 1., 1.,\n",
       "        1., 1., 1., 1., 1., 1., 1., 1., 1., 1., 1., 1., 1., 1., 1., 1., 1.,\n",
       "        1., 1., 1., 1., 1., 1., 1., 1., 1., 1., 1., 1., 1., 1., 1., 1., 1.,\n",
       "        1., 1., 1., 1., 1., 1., 1., 1., 1., 1., 1., 1., 1., 1., 1., 1., 1.,\n",
       "        1., 1., 1., 1., 1., 1., 1., 1., 1., 1., 1., 1., 1., 1., 1., 1., 1.,\n",
       "        1., 1., 1., 1., 1., 1., 1., 1., 1., 1., 1., 1., 1., 1., 1., 1., 1.,\n",
       "        1., 1., 1., 1., 1., 1., 1., 1., 1., 1., 1., 1., 1., 1., 1., 1., 1.,\n",
       "        1., 1., 1., 1., 1., 1., 1., 1., 1., 1., 1., 1., 1., 1., 1., 1., 1.,\n",
       "        1., 1., 1., 1., 1., 1., 1., 1., 1., 1., 1., 1., 1., 1., 1., 1., 1.,\n",
       "        1., 1., 1., 1., 1., 1., 1., 1., 1., 1., 1., 1., 1., 1., 1., 1., 1.,\n",
       "        1., 1., 1., 1., 1., 1., 1., 1., 1., 1., 1., 1., 1., 1., 1., 1., 1.,\n",
       "        1., 1., 1., 1., 1., 1., 1., 1., 1., 1., 1., 1., 1., 1., 1., 1., 1.,\n",
       "        1., 1., 1., 1., 1., 1., 1., 1., 1., 1., 1., 1., 1., 1., 1., 1., 1.,\n",
       "        1., 1., 1., 1., 1., 1., 1., 1., 1., 1., 1., 1., 1., 1., 1., 1., 1.,\n",
       "        1., 1.], dtype=float32)>)"
      ]
     },
     "execution_count": 76,
     "metadata": {},
     "output_type": "execute_result"
    }
   ],
   "source": [
    "tf.ones(len(pos)),tf.ones(len(neg))\n"
   ]
  },
  {
   "cell_type": "markdown",
   "metadata": {},
   "source": [
    "## 3.3 Add labels and Combine Positive and Negative Samples"
   ]
  },
  {
   "cell_type": "code",
   "execution_count": 77,
   "metadata": {
    "jupyter": {
     "source_hidden": true
    },
    "tags": []
   },
   "outputs": [],
   "source": [
    "positives = tf.data.Dataset.zip((pos, tf.data.Dataset.from_tensor_slices(tf.ones(len(pos)))))\n",
    "negatives = tf.data.Dataset.zip((neg, tf.data.Dataset.from_tensor_slices(tf.zeros(len(neg)))))\n",
    "data = positives.concatenate(negatives)"
   ]
  },
  {
   "cell_type": "code",
   "execution_count": 78,
   "metadata": {},
   "outputs": [
    {
     "data": {
      "text/plain": [
       "682"
      ]
     },
     "execution_count": 78,
     "metadata": {},
     "output_type": "execute_result"
    }
   ],
   "source": [
    "positives.as_numpy_iterator().next()\n",
    "data.shuffle(100).as_numpy_iterator().next()\n",
    "len(positives)\n",
    "len(negatives)\n",
    "#len(data)"
   ]
  },
  {
   "cell_type": "markdown",
   "metadata": {},
   "source": [
    "## 4.1 Calculate Wave Cycle Length"
   ]
  },
  {
   "cell_type": "code",
   "execution_count": 79,
   "metadata": {
    "jupyter": {
     "source_hidden": true
    },
    "tags": []
   },
   "outputs": [],
   "source": [
    "lengths = []\n",
    "count=0\n",
    "for file in os.listdir(os.path.join('data', 'snoring')):\n",
    "    tensor_wave = load_wav_16k_mono(os.path.join('data', 'snoring', file))\n",
    "    lengths.append(len(tensor_wave))\n",
    "    count+=1\n",
    "    #if count>383:\n",
    "        #break"
   ]
  },
  {
   "cell_type": "code",
   "execution_count": 80,
   "metadata": {},
   "outputs": [
    {
     "data": {
      "text/plain": [
       "['1.wav',\n",
       " 'Annotation_from_Ch_1_but_output_from_Ch_1_filename_190508_183_st12_SampleNo_10_from_176_sec_to_228_sec_1.wav',\n",
       " 'Annotation_from_Ch_1_but_output_from_Ch_1_filename_190508_183_st12_SampleNo_10_from_176_sec_to_228_sec_10.wav',\n",
       " 'Annotation_from_Ch_1_but_output_from_Ch_1_filename_190508_183_st12_SampleNo_10_from_176_sec_to_228_sec_11.wav',\n",
       " 'Annotation_from_Ch_1_but_output_from_Ch_1_filename_190508_183_st12_SampleNo_10_from_176_sec_to_228_sec_12.wav',\n",
       " 'Annotation_from_Ch_1_but_output_from_Ch_1_filename_190508_183_st12_SampleNo_10_from_176_sec_to_228_sec_2.wav',\n",
       " 'Annotation_from_Ch_1_but_output_from_Ch_1_filename_190508_183_st12_SampleNo_10_from_176_sec_to_228_sec_3.wav',\n",
       " 'Annotation_from_Ch_1_but_output_from_Ch_1_filename_190508_183_st12_SampleNo_10_from_176_sec_to_228_sec_4.wav',\n",
       " 'Annotation_from_Ch_1_but_output_from_Ch_1_filename_190508_183_st12_SampleNo_10_from_176_sec_to_228_sec_5.wav',\n",
       " 'Annotation_from_Ch_1_but_output_from_Ch_1_filename_190508_183_st12_SampleNo_10_from_176_sec_to_228_sec_6.wav',\n",
       " 'Annotation_from_Ch_1_but_output_from_Ch_1_filename_190508_183_st12_SampleNo_10_from_176_sec_to_228_sec_7.wav',\n",
       " 'Annotation_from_Ch_1_but_output_from_Ch_1_filename_190508_183_st12_SampleNo_10_from_176_sec_to_228_sec_8.wav',\n",
       " 'Annotation_from_Ch_1_but_output_from_Ch_1_filename_190508_183_st12_SampleNo_10_from_176_sec_to_228_sec_9.wav',\n",
       " 'Annotation_from_Ch_1_but_output_from_Ch_1_filename_190508_183_st12_SampleNo_11_from_230_sec_to_276_sec_1.wav',\n",
       " 'Annotation_from_Ch_1_but_output_from_Ch_1_filename_190508_183_st12_SampleNo_11_from_230_sec_to_276_sec_10.wav',\n",
       " 'Annotation_from_Ch_1_but_output_from_Ch_1_filename_190508_183_st12_SampleNo_11_from_230_sec_to_276_sec_2.wav',\n",
       " 'Annotation_from_Ch_1_but_output_from_Ch_1_filename_190508_183_st12_SampleNo_11_from_230_sec_to_276_sec_3.wav',\n",
       " 'Annotation_from_Ch_1_but_output_from_Ch_1_filename_190508_183_st12_SampleNo_11_from_230_sec_to_276_sec_4.wav',\n",
       " 'Annotation_from_Ch_1_but_output_from_Ch_1_filename_190508_183_st12_SampleNo_11_from_230_sec_to_276_sec_5.wav',\n",
       " 'Annotation_from_Ch_1_but_output_from_Ch_1_filename_190508_183_st12_SampleNo_11_from_230_sec_to_276_sec_6.wav',\n",
       " 'Annotation_from_Ch_1_but_output_from_Ch_1_filename_190508_183_st12_SampleNo_11_from_230_sec_to_276_sec_7.wav',\n",
       " 'Annotation_from_Ch_1_but_output_from_Ch_1_filename_190508_183_st12_SampleNo_11_from_230_sec_to_276_sec_8.wav',\n",
       " 'Annotation_from_Ch_1_but_output_from_Ch_1_filename_190508_183_st12_SampleNo_11_from_230_sec_to_276_sec_9.wav',\n",
       " 'Annotation_from_Ch_1_but_output_from_Ch_1_filename_190508_183_st12_SampleNo_12_from_280_sec_to_290_sec.wav',\n",
       " 'Annotation_from_Ch_1_but_output_from_Ch_1_filename_190508_183_st12_SampleNo_13_from_292_sec_to_312_sec_1.wav',\n",
       " 'Annotation_from_Ch_1_but_output_from_Ch_1_filename_190508_183_st12_SampleNo_13_from_292_sec_to_312_sec_2.wav',\n",
       " 'Annotation_from_Ch_1_but_output_from_Ch_1_filename_190508_183_st12_SampleNo_13_from_292_sec_to_312_sec_3.wav',\n",
       " 'Annotation_from_Ch_1_but_output_from_Ch_1_filename_190508_183_st12_SampleNo_13_from_292_sec_to_312_sec_4.wav',\n",
       " 'Annotation_from_Ch_1_but_output_from_Ch_1_filename_190508_183_st12_SampleNo_14_from_314_sec_to_366_sec_1.wav',\n",
       " 'Annotation_from_Ch_1_but_output_from_Ch_1_filename_190508_183_st12_SampleNo_14_from_314_sec_to_366_sec_10.wav',\n",
       " 'Annotation_from_Ch_1_but_output_from_Ch_1_filename_190508_183_st12_SampleNo_14_from_314_sec_to_366_sec_11.wav',\n",
       " 'Annotation_from_Ch_1_but_output_from_Ch_1_filename_190508_183_st12_SampleNo_14_from_314_sec_to_366_sec_12.wav',\n",
       " 'Annotation_from_Ch_1_but_output_from_Ch_1_filename_190508_183_st12_SampleNo_14_from_314_sec_to_366_sec_2.wav',\n",
       " 'Annotation_from_Ch_1_but_output_from_Ch_1_filename_190508_183_st12_SampleNo_14_from_314_sec_to_366_sec_3.wav',\n",
       " 'Annotation_from_Ch_1_but_output_from_Ch_1_filename_190508_183_st12_SampleNo_14_from_314_sec_to_366_sec_4.wav',\n",
       " 'Annotation_from_Ch_1_but_output_from_Ch_1_filename_190508_183_st12_SampleNo_14_from_314_sec_to_366_sec_5.wav',\n",
       " 'Annotation_from_Ch_1_but_output_from_Ch_1_filename_190508_183_st12_SampleNo_14_from_314_sec_to_366_sec_6.wav',\n",
       " 'Annotation_from_Ch_1_but_output_from_Ch_1_filename_190508_183_st12_SampleNo_14_from_314_sec_to_366_sec_7.wav',\n",
       " 'Annotation_from_Ch_1_but_output_from_Ch_1_filename_190508_183_st12_SampleNo_14_from_314_sec_to_366_sec_8.wav',\n",
       " 'Annotation_from_Ch_1_but_output_from_Ch_1_filename_190508_183_st12_SampleNo_14_from_314_sec_to_366_sec_9.wav',\n",
       " 'Annotation_from_Ch_1_but_output_from_Ch_1_filename_190508_183_st12_SampleNo_15_from_372_sec_to_398_sec_1.wav',\n",
       " 'Annotation_from_Ch_1_but_output_from_Ch_1_filename_190508_183_st12_SampleNo_15_from_372_sec_to_398_sec_2.wav',\n",
       " 'Annotation_from_Ch_1_but_output_from_Ch_1_filename_190508_183_st12_SampleNo_15_from_372_sec_to_398_sec_3.wav',\n",
       " 'Annotation_from_Ch_1_but_output_from_Ch_1_filename_190508_183_st12_SampleNo_15_from_372_sec_to_398_sec_4.wav',\n",
       " 'Annotation_from_Ch_1_but_output_from_Ch_1_filename_190508_183_st12_SampleNo_15_from_372_sec_to_398_sec_5.wav',\n",
       " 'Annotation_from_Ch_1_but_output_from_Ch_1_filename_190508_183_st12_SampleNo_16_from_402_sec_to_412_sec.wav',\n",
       " 'Annotation_from_Ch_1_but_output_from_Ch_1_filename_190508_183_st12_SampleNo_17_from_420_sec_to_428_sec.wav',\n",
       " 'Annotation_from_Ch_1_but_output_from_Ch_1_filename_190508_183_st12_SampleNo_18_from_430_sec_to_466_sec_1.wav',\n",
       " 'Annotation_from_Ch_1_but_output_from_Ch_1_filename_190508_183_st12_SampleNo_18_from_430_sec_to_466_sec_2.wav',\n",
       " 'Annotation_from_Ch_1_but_output_from_Ch_1_filename_190508_183_st12_SampleNo_18_from_430_sec_to_466_sec_3.wav',\n",
       " 'Annotation_from_Ch_1_but_output_from_Ch_1_filename_190508_183_st12_SampleNo_18_from_430_sec_to_466_sec_4.wav',\n",
       " 'Annotation_from_Ch_1_but_output_from_Ch_1_filename_190508_183_st12_SampleNo_18_from_430_sec_to_466_sec_5.wav',\n",
       " 'Annotation_from_Ch_1_but_output_from_Ch_1_filename_190508_183_st12_SampleNo_18_from_430_sec_to_466_sec_6.wav',\n",
       " 'Annotation_from_Ch_1_but_output_from_Ch_1_filename_190508_183_st12_SampleNo_18_from_430_sec_to_466_sec_7.wav',\n",
       " 'Annotation_from_Ch_1_but_output_from_Ch_1_filename_190508_183_st12_SampleNo_18_from_430_sec_to_466_sec_8.wav',\n",
       " 'Annotation_from_Ch_1_but_output_from_Ch_1_filename_190508_183_st12_SampleNo_19_from_468_sec_to_478_sec.wav',\n",
       " 'Annotation_from_Ch_1_but_output_from_Ch_1_filename_190508_183_st12_SampleNo_20_from_488_sec_to_508_sec_1.wav',\n",
       " 'Annotation_from_Ch_1_but_output_from_Ch_1_filename_190508_183_st12_SampleNo_20_from_488_sec_to_508_sec_2.wav',\n",
       " 'Annotation_from_Ch_1_but_output_from_Ch_1_filename_190508_183_st12_SampleNo_20_from_488_sec_to_508_sec_3.wav',\n",
       " 'Annotation_from_Ch_1_but_output_from_Ch_1_filename_190508_183_st12_SampleNo_20_from_488_sec_to_508_sec_4.wav',\n",
       " 'Annotation_from_Ch_1_but_output_from_Ch_1_filename_190508_183_st12_SampleNo_21_from_518_sec_to_622_sec_1.wav',\n",
       " 'Annotation_from_Ch_1_but_output_from_Ch_1_filename_190508_183_st12_SampleNo_21_from_518_sec_to_622_sec_10.wav',\n",
       " 'Annotation_from_Ch_1_but_output_from_Ch_1_filename_190508_183_st12_SampleNo_21_from_518_sec_to_622_sec_11.wav',\n",
       " 'Annotation_from_Ch_1_but_output_from_Ch_1_filename_190508_183_st12_SampleNo_21_from_518_sec_to_622_sec_12.wav',\n",
       " 'Annotation_from_Ch_1_but_output_from_Ch_1_filename_190508_183_st12_SampleNo_21_from_518_sec_to_622_sec_13.wav',\n",
       " 'Annotation_from_Ch_1_but_output_from_Ch_1_filename_190508_183_st12_SampleNo_21_from_518_sec_to_622_sec_14.wav',\n",
       " 'Annotation_from_Ch_1_but_output_from_Ch_1_filename_190508_183_st12_SampleNo_21_from_518_sec_to_622_sec_15.wav',\n",
       " 'Annotation_from_Ch_1_but_output_from_Ch_1_filename_190508_183_st12_SampleNo_21_from_518_sec_to_622_sec_16.wav',\n",
       " 'Annotation_from_Ch_1_but_output_from_Ch_1_filename_190508_183_st12_SampleNo_21_from_518_sec_to_622_sec_17.wav',\n",
       " 'Annotation_from_Ch_1_but_output_from_Ch_1_filename_190508_183_st12_SampleNo_21_from_518_sec_to_622_sec_18.wav',\n",
       " 'Annotation_from_Ch_1_but_output_from_Ch_1_filename_190508_183_st12_SampleNo_21_from_518_sec_to_622_sec_19.wav',\n",
       " 'Annotation_from_Ch_1_but_output_from_Ch_1_filename_190508_183_st12_SampleNo_21_from_518_sec_to_622_sec_2.wav',\n",
       " 'Annotation_from_Ch_1_but_output_from_Ch_1_filename_190508_183_st12_SampleNo_21_from_518_sec_to_622_sec_20.wav',\n",
       " 'Annotation_from_Ch_1_but_output_from_Ch_1_filename_190508_183_st12_SampleNo_21_from_518_sec_to_622_sec_21.wav',\n",
       " 'Annotation_from_Ch_1_but_output_from_Ch_1_filename_190508_183_st12_SampleNo_21_from_518_sec_to_622_sec_22.wav',\n",
       " 'Annotation_from_Ch_1_but_output_from_Ch_1_filename_190508_183_st12_SampleNo_21_from_518_sec_to_622_sec_23.wav',\n",
       " 'Annotation_from_Ch_1_but_output_from_Ch_1_filename_190508_183_st12_SampleNo_21_from_518_sec_to_622_sec_24.wav',\n",
       " 'Annotation_from_Ch_1_but_output_from_Ch_1_filename_190508_183_st12_SampleNo_21_from_518_sec_to_622_sec_25.wav',\n",
       " 'Annotation_from_Ch_1_but_output_from_Ch_1_filename_190508_183_st12_SampleNo_21_from_518_sec_to_622_sec_3.wav',\n",
       " 'Annotation_from_Ch_1_but_output_from_Ch_1_filename_190508_183_st12_SampleNo_21_from_518_sec_to_622_sec_4.wav',\n",
       " 'Annotation_from_Ch_1_but_output_from_Ch_1_filename_190508_183_st12_SampleNo_21_from_518_sec_to_622_sec_5.wav',\n",
       " 'Annotation_from_Ch_1_but_output_from_Ch_1_filename_190508_183_st12_SampleNo_21_from_518_sec_to_622_sec_6.wav',\n",
       " 'Annotation_from_Ch_1_but_output_from_Ch_1_filename_190508_183_st12_SampleNo_21_from_518_sec_to_622_sec_7.wav',\n",
       " 'Annotation_from_Ch_1_but_output_from_Ch_1_filename_190508_183_st12_SampleNo_21_from_518_sec_to_622_sec_8.wav',\n",
       " 'Annotation_from_Ch_1_but_output_from_Ch_1_filename_190508_183_st12_SampleNo_21_from_518_sec_to_622_sec_9.wav',\n",
       " 'Annotation_from_Ch_1_but_output_from_Ch_1_filename_190508_183_st12_SampleNo_22_from_624_sec_to_638_sec_1.wav',\n",
       " 'Annotation_from_Ch_1_but_output_from_Ch_1_filename_190508_183_st12_SampleNo_22_from_624_sec_to_638_sec_2.wav',\n",
       " 'Annotation_from_Ch_1_but_output_from_Ch_1_filename_190508_183_st12_SampleNo_23_from_640_sec_to_844_sec_1.wav',\n",
       " 'Annotation_from_Ch_1_but_output_from_Ch_1_filename_190508_183_st12_SampleNo_23_from_640_sec_to_844_sec_10.wav',\n",
       " 'Annotation_from_Ch_1_but_output_from_Ch_1_filename_190508_183_st12_SampleNo_23_from_640_sec_to_844_sec_11.wav',\n",
       " 'Annotation_from_Ch_1_but_output_from_Ch_1_filename_190508_183_st12_SampleNo_23_from_640_sec_to_844_sec_12.wav',\n",
       " 'Annotation_from_Ch_1_but_output_from_Ch_1_filename_190508_183_st12_SampleNo_23_from_640_sec_to_844_sec_13.wav',\n",
       " 'Annotation_from_Ch_1_but_output_from_Ch_1_filename_190508_183_st12_SampleNo_23_from_640_sec_to_844_sec_14.wav',\n",
       " 'Annotation_from_Ch_1_but_output_from_Ch_1_filename_190508_183_st12_SampleNo_23_from_640_sec_to_844_sec_15.wav',\n",
       " 'Annotation_from_Ch_1_but_output_from_Ch_1_filename_190508_183_st12_SampleNo_23_from_640_sec_to_844_sec_16.wav',\n",
       " 'Annotation_from_Ch_1_but_output_from_Ch_1_filename_190508_183_st12_SampleNo_23_from_640_sec_to_844_sec_17.wav',\n",
       " 'Annotation_from_Ch_1_but_output_from_Ch_1_filename_190508_183_st12_SampleNo_23_from_640_sec_to_844_sec_18.wav',\n",
       " 'Annotation_from_Ch_1_but_output_from_Ch_1_filename_190508_183_st12_SampleNo_23_from_640_sec_to_844_sec_19.wav',\n",
       " 'Annotation_from_Ch_1_but_output_from_Ch_1_filename_190508_183_st12_SampleNo_23_from_640_sec_to_844_sec_2.wav',\n",
       " 'Annotation_from_Ch_1_but_output_from_Ch_1_filename_190508_183_st12_SampleNo_23_from_640_sec_to_844_sec_20.wav',\n",
       " 'Annotation_from_Ch_1_but_output_from_Ch_1_filename_190508_183_st12_SampleNo_23_from_640_sec_to_844_sec_21.wav',\n",
       " 'Annotation_from_Ch_1_but_output_from_Ch_1_filename_190508_183_st12_SampleNo_23_from_640_sec_to_844_sec_22.wav',\n",
       " 'Annotation_from_Ch_1_but_output_from_Ch_1_filename_190508_183_st12_SampleNo_23_from_640_sec_to_844_sec_23.wav',\n",
       " 'Annotation_from_Ch_1_but_output_from_Ch_1_filename_190508_183_st12_SampleNo_23_from_640_sec_to_844_sec_24.wav',\n",
       " 'Annotation_from_Ch_1_but_output_from_Ch_1_filename_190508_183_st12_SampleNo_23_from_640_sec_to_844_sec_25.wav',\n",
       " 'Annotation_from_Ch_1_but_output_from_Ch_1_filename_190508_183_st12_SampleNo_23_from_640_sec_to_844_sec_26.wav',\n",
       " 'Annotation_from_Ch_1_but_output_from_Ch_1_filename_190508_183_st12_SampleNo_23_from_640_sec_to_844_sec_27.wav',\n",
       " 'Annotation_from_Ch_1_but_output_from_Ch_1_filename_190508_183_st12_SampleNo_23_from_640_sec_to_844_sec_28.wav',\n",
       " 'Annotation_from_Ch_1_but_output_from_Ch_1_filename_190508_183_st12_SampleNo_23_from_640_sec_to_844_sec_29.wav',\n",
       " 'Annotation_from_Ch_1_but_output_from_Ch_1_filename_190508_183_st12_SampleNo_23_from_640_sec_to_844_sec_3.wav',\n",
       " 'Annotation_from_Ch_1_but_output_from_Ch_1_filename_190508_183_st12_SampleNo_23_from_640_sec_to_844_sec_30.wav',\n",
       " 'Annotation_from_Ch_1_but_output_from_Ch_1_filename_190508_183_st12_SampleNo_23_from_640_sec_to_844_sec_31.wav',\n",
       " 'Annotation_from_Ch_1_but_output_from_Ch_1_filename_190508_183_st12_SampleNo_23_from_640_sec_to_844_sec_32.wav',\n",
       " 'Annotation_from_Ch_1_but_output_from_Ch_1_filename_190508_183_st12_SampleNo_23_from_640_sec_to_844_sec_33.wav',\n",
       " 'Annotation_from_Ch_1_but_output_from_Ch_1_filename_190508_183_st12_SampleNo_23_from_640_sec_to_844_sec_34.wav',\n",
       " 'Annotation_from_Ch_1_but_output_from_Ch_1_filename_190508_183_st12_SampleNo_23_from_640_sec_to_844_sec_35.wav',\n",
       " 'Annotation_from_Ch_1_but_output_from_Ch_1_filename_190508_183_st12_SampleNo_23_from_640_sec_to_844_sec_36.wav',\n",
       " 'Annotation_from_Ch_1_but_output_from_Ch_1_filename_190508_183_st12_SampleNo_23_from_640_sec_to_844_sec_37.wav',\n",
       " 'Annotation_from_Ch_1_but_output_from_Ch_1_filename_190508_183_st12_SampleNo_23_from_640_sec_to_844_sec_38.wav',\n",
       " 'Annotation_from_Ch_1_but_output_from_Ch_1_filename_190508_183_st12_SampleNo_23_from_640_sec_to_844_sec_39.wav',\n",
       " 'Annotation_from_Ch_1_but_output_from_Ch_1_filename_190508_183_st12_SampleNo_23_from_640_sec_to_844_sec_4.wav',\n",
       " 'Annotation_from_Ch_1_but_output_from_Ch_1_filename_190508_183_st12_SampleNo_23_from_640_sec_to_844_sec_40.wav',\n",
       " 'Annotation_from_Ch_1_but_output_from_Ch_1_filename_190508_183_st12_SampleNo_23_from_640_sec_to_844_sec_41.wav',\n",
       " 'Annotation_from_Ch_1_but_output_from_Ch_1_filename_190508_183_st12_SampleNo_23_from_640_sec_to_844_sec_42.wav',\n",
       " 'Annotation_from_Ch_1_but_output_from_Ch_1_filename_190508_183_st12_SampleNo_23_from_640_sec_to_844_sec_43.wav',\n",
       " 'Annotation_from_Ch_1_but_output_from_Ch_1_filename_190508_183_st12_SampleNo_23_from_640_sec_to_844_sec_44.wav',\n",
       " 'Annotation_from_Ch_1_but_output_from_Ch_1_filename_190508_183_st12_SampleNo_23_from_640_sec_to_844_sec_45.wav',\n",
       " 'Annotation_from_Ch_1_but_output_from_Ch_1_filename_190508_183_st12_SampleNo_23_from_640_sec_to_844_sec_46.wav',\n",
       " 'Annotation_from_Ch_1_but_output_from_Ch_1_filename_190508_183_st12_SampleNo_23_from_640_sec_to_844_sec_47.wav',\n",
       " 'Annotation_from_Ch_1_but_output_from_Ch_1_filename_190508_183_st12_SampleNo_23_from_640_sec_to_844_sec_48.wav',\n",
       " 'Annotation_from_Ch_1_but_output_from_Ch_1_filename_190508_183_st12_SampleNo_23_from_640_sec_to_844_sec_49.wav',\n",
       " 'Annotation_from_Ch_1_but_output_from_Ch_1_filename_190508_183_st12_SampleNo_23_from_640_sec_to_844_sec_5.wav',\n",
       " 'Annotation_from_Ch_1_but_output_from_Ch_1_filename_190508_183_st12_SampleNo_23_from_640_sec_to_844_sec_50.wav',\n",
       " 'Annotation_from_Ch_1_but_output_from_Ch_1_filename_190508_183_st12_SampleNo_23_from_640_sec_to_844_sec_6.wav',\n",
       " 'Annotation_from_Ch_1_but_output_from_Ch_1_filename_190508_183_st12_SampleNo_23_from_640_sec_to_844_sec_7.wav',\n",
       " 'Annotation_from_Ch_1_but_output_from_Ch_1_filename_190508_183_st12_SampleNo_23_from_640_sec_to_844_sec_8.wav',\n",
       " 'Annotation_from_Ch_1_but_output_from_Ch_1_filename_190508_183_st12_SampleNo_23_from_640_sec_to_844_sec_9.wav',\n",
       " 'Annotation_from_Ch_1_but_output_from_Ch_1_filename_190508_183_st12_SampleNo_24_from_850_sec_to_1184_sec_1.wav',\n",
       " 'Annotation_from_Ch_1_but_output_from_Ch_1_filename_190508_183_st12_SampleNo_24_from_850_sec_to_1184_sec_10.wav',\n",
       " 'Annotation_from_Ch_1_but_output_from_Ch_1_filename_190508_183_st12_SampleNo_24_from_850_sec_to_1184_sec_11.wav',\n",
       " 'Annotation_from_Ch_1_but_output_from_Ch_1_filename_190508_183_st12_SampleNo_24_from_850_sec_to_1184_sec_12.wav',\n",
       " 'Annotation_from_Ch_1_but_output_from_Ch_1_filename_190508_183_st12_SampleNo_24_from_850_sec_to_1184_sec_13.wav',\n",
       " 'Annotation_from_Ch_1_but_output_from_Ch_1_filename_190508_183_st12_SampleNo_24_from_850_sec_to_1184_sec_14.wav',\n",
       " 'Annotation_from_Ch_1_but_output_from_Ch_1_filename_190508_183_st12_SampleNo_24_from_850_sec_to_1184_sec_15.wav',\n",
       " 'Annotation_from_Ch_1_but_output_from_Ch_1_filename_190508_183_st12_SampleNo_24_from_850_sec_to_1184_sec_16.wav',\n",
       " 'Annotation_from_Ch_1_but_output_from_Ch_1_filename_190508_183_st12_SampleNo_24_from_850_sec_to_1184_sec_17.wav',\n",
       " 'Annotation_from_Ch_1_but_output_from_Ch_1_filename_190508_183_st12_SampleNo_24_from_850_sec_to_1184_sec_18.wav',\n",
       " 'Annotation_from_Ch_1_but_output_from_Ch_1_filename_190508_183_st12_SampleNo_24_from_850_sec_to_1184_sec_19.wav',\n",
       " 'Annotation_from_Ch_1_but_output_from_Ch_1_filename_190508_183_st12_SampleNo_24_from_850_sec_to_1184_sec_2.wav',\n",
       " 'Annotation_from_Ch_1_but_output_from_Ch_1_filename_190508_183_st12_SampleNo_24_from_850_sec_to_1184_sec_20.wav',\n",
       " 'Annotation_from_Ch_1_but_output_from_Ch_1_filename_190508_183_st12_SampleNo_24_from_850_sec_to_1184_sec_21.wav',\n",
       " 'Annotation_from_Ch_1_but_output_from_Ch_1_filename_190508_183_st12_SampleNo_24_from_850_sec_to_1184_sec_22.wav',\n",
       " 'Annotation_from_Ch_1_but_output_from_Ch_1_filename_190508_183_st12_SampleNo_24_from_850_sec_to_1184_sec_23.wav',\n",
       " 'Annotation_from_Ch_1_but_output_from_Ch_1_filename_190508_183_st12_SampleNo_24_from_850_sec_to_1184_sec_24.wav',\n",
       " 'Annotation_from_Ch_1_but_output_from_Ch_1_filename_190508_183_st12_SampleNo_24_from_850_sec_to_1184_sec_25.wav',\n",
       " 'Annotation_from_Ch_1_but_output_from_Ch_1_filename_190508_183_st12_SampleNo_24_from_850_sec_to_1184_sec_26.wav',\n",
       " 'Annotation_from_Ch_1_but_output_from_Ch_1_filename_190508_183_st12_SampleNo_24_from_850_sec_to_1184_sec_27.wav',\n",
       " 'Annotation_from_Ch_1_but_output_from_Ch_1_filename_190508_183_st12_SampleNo_24_from_850_sec_to_1184_sec_28.wav',\n",
       " 'Annotation_from_Ch_1_but_output_from_Ch_1_filename_190508_183_st12_SampleNo_24_from_850_sec_to_1184_sec_29.wav',\n",
       " 'Annotation_from_Ch_1_but_output_from_Ch_1_filename_190508_183_st12_SampleNo_24_from_850_sec_to_1184_sec_3.wav',\n",
       " 'Annotation_from_Ch_1_but_output_from_Ch_1_filename_190508_183_st12_SampleNo_24_from_850_sec_to_1184_sec_30.wav',\n",
       " 'Annotation_from_Ch_1_but_output_from_Ch_1_filename_190508_183_st12_SampleNo_24_from_850_sec_to_1184_sec_31.wav',\n",
       " 'Annotation_from_Ch_1_but_output_from_Ch_1_filename_190508_183_st12_SampleNo_24_from_850_sec_to_1184_sec_32.wav',\n",
       " 'Annotation_from_Ch_1_but_output_from_Ch_1_filename_190508_183_st12_SampleNo_24_from_850_sec_to_1184_sec_33.wav',\n",
       " 'Annotation_from_Ch_1_but_output_from_Ch_1_filename_190508_183_st12_SampleNo_24_from_850_sec_to_1184_sec_34.wav',\n",
       " 'Annotation_from_Ch_1_but_output_from_Ch_1_filename_190508_183_st12_SampleNo_24_from_850_sec_to_1184_sec_35.wav',\n",
       " 'Annotation_from_Ch_1_but_output_from_Ch_1_filename_190508_183_st12_SampleNo_24_from_850_sec_to_1184_sec_36.wav',\n",
       " 'Annotation_from_Ch_1_but_output_from_Ch_1_filename_190508_183_st12_SampleNo_24_from_850_sec_to_1184_sec_37.wav',\n",
       " 'Annotation_from_Ch_1_but_output_from_Ch_1_filename_190508_183_st12_SampleNo_24_from_850_sec_to_1184_sec_38.wav',\n",
       " 'Annotation_from_Ch_1_but_output_from_Ch_1_filename_190508_183_st12_SampleNo_24_from_850_sec_to_1184_sec_39.wav',\n",
       " 'Annotation_from_Ch_1_but_output_from_Ch_1_filename_190508_183_st12_SampleNo_24_from_850_sec_to_1184_sec_4.wav',\n",
       " 'Annotation_from_Ch_1_but_output_from_Ch_1_filename_190508_183_st12_SampleNo_24_from_850_sec_to_1184_sec_40.wav',\n",
       " 'Annotation_from_Ch_1_but_output_from_Ch_1_filename_190508_183_st12_SampleNo_24_from_850_sec_to_1184_sec_41.wav',\n",
       " 'Annotation_from_Ch_1_but_output_from_Ch_1_filename_190508_183_st12_SampleNo_24_from_850_sec_to_1184_sec_42.wav',\n",
       " 'Annotation_from_Ch_1_but_output_from_Ch_1_filename_190508_183_st12_SampleNo_24_from_850_sec_to_1184_sec_43.wav',\n",
       " 'Annotation_from_Ch_1_but_output_from_Ch_1_filename_190508_183_st12_SampleNo_24_from_850_sec_to_1184_sec_44.wav',\n",
       " 'Annotation_from_Ch_1_but_output_from_Ch_1_filename_190508_183_st12_SampleNo_24_from_850_sec_to_1184_sec_45.wav',\n",
       " 'Annotation_from_Ch_1_but_output_from_Ch_1_filename_190508_183_st12_SampleNo_24_from_850_sec_to_1184_sec_46.wav',\n",
       " 'Annotation_from_Ch_1_but_output_from_Ch_1_filename_190508_183_st12_SampleNo_24_from_850_sec_to_1184_sec_47.wav',\n",
       " 'Annotation_from_Ch_1_but_output_from_Ch_1_filename_190508_183_st12_SampleNo_24_from_850_sec_to_1184_sec_48.wav',\n",
       " 'Annotation_from_Ch_1_but_output_from_Ch_1_filename_190508_183_st12_SampleNo_24_from_850_sec_to_1184_sec_49.wav',\n",
       " 'Annotation_from_Ch_1_but_output_from_Ch_1_filename_190508_183_st12_SampleNo_24_from_850_sec_to_1184_sec_5.wav',\n",
       " 'Annotation_from_Ch_1_but_output_from_Ch_1_filename_190508_183_st12_SampleNo_24_from_850_sec_to_1184_sec_50.wav',\n",
       " 'Annotation_from_Ch_1_but_output_from_Ch_1_filename_190508_183_st12_SampleNo_24_from_850_sec_to_1184_sec_51.wav',\n",
       " 'Annotation_from_Ch_1_but_output_from_Ch_1_filename_190508_183_st12_SampleNo_24_from_850_sec_to_1184_sec_52.wav',\n",
       " 'Annotation_from_Ch_1_but_output_from_Ch_1_filename_190508_183_st12_SampleNo_24_from_850_sec_to_1184_sec_53.wav',\n",
       " 'Annotation_from_Ch_1_but_output_from_Ch_1_filename_190508_183_st12_SampleNo_24_from_850_sec_to_1184_sec_54.wav',\n",
       " 'Annotation_from_Ch_1_but_output_from_Ch_1_filename_190508_183_st12_SampleNo_24_from_850_sec_to_1184_sec_55.wav',\n",
       " 'Annotation_from_Ch_1_but_output_from_Ch_1_filename_190508_183_st12_SampleNo_24_from_850_sec_to_1184_sec_56.wav',\n",
       " 'Annotation_from_Ch_1_but_output_from_Ch_1_filename_190508_183_st12_SampleNo_24_from_850_sec_to_1184_sec_57.wav',\n",
       " 'Annotation_from_Ch_1_but_output_from_Ch_1_filename_190508_183_st12_SampleNo_24_from_850_sec_to_1184_sec_58.wav',\n",
       " 'Annotation_from_Ch_1_but_output_from_Ch_1_filename_190508_183_st12_SampleNo_24_from_850_sec_to_1184_sec_59.wav',\n",
       " 'Annotation_from_Ch_1_but_output_from_Ch_1_filename_190508_183_st12_SampleNo_24_from_850_sec_to_1184_sec_6.wav',\n",
       " 'Annotation_from_Ch_1_but_output_from_Ch_1_filename_190508_183_st12_SampleNo_24_from_850_sec_to_1184_sec_60.wav',\n",
       " 'Annotation_from_Ch_1_but_output_from_Ch_1_filename_190508_183_st12_SampleNo_24_from_850_sec_to_1184_sec_61.wav',\n",
       " 'Annotation_from_Ch_1_but_output_from_Ch_1_filename_190508_183_st12_SampleNo_24_from_850_sec_to_1184_sec_62.wav',\n",
       " 'Annotation_from_Ch_1_but_output_from_Ch_1_filename_190508_183_st12_SampleNo_24_from_850_sec_to_1184_sec_63.wav',\n",
       " 'Annotation_from_Ch_1_but_output_from_Ch_1_filename_190508_183_st12_SampleNo_24_from_850_sec_to_1184_sec_64.wav',\n",
       " 'Annotation_from_Ch_1_but_output_from_Ch_1_filename_190508_183_st12_SampleNo_24_from_850_sec_to_1184_sec_65.wav',\n",
       " 'Annotation_from_Ch_1_but_output_from_Ch_1_filename_190508_183_st12_SampleNo_24_from_850_sec_to_1184_sec_66.wav',\n",
       " 'Annotation_from_Ch_1_but_output_from_Ch_1_filename_190508_183_st12_SampleNo_24_from_850_sec_to_1184_sec_67.wav',\n",
       " 'Annotation_from_Ch_1_but_output_from_Ch_1_filename_190508_183_st12_SampleNo_24_from_850_sec_to_1184_sec_68.wav',\n",
       " 'Annotation_from_Ch_1_but_output_from_Ch_1_filename_190508_183_st12_SampleNo_24_from_850_sec_to_1184_sec_69.wav',\n",
       " 'Annotation_from_Ch_1_but_output_from_Ch_1_filename_190508_183_st12_SampleNo_24_from_850_sec_to_1184_sec_7.wav',\n",
       " 'Annotation_from_Ch_1_but_output_from_Ch_1_filename_190508_183_st12_SampleNo_24_from_850_sec_to_1184_sec_70.wav',\n",
       " 'Annotation_from_Ch_1_but_output_from_Ch_1_filename_190508_183_st12_SampleNo_24_from_850_sec_to_1184_sec_71.wav',\n",
       " 'Annotation_from_Ch_1_but_output_from_Ch_1_filename_190508_183_st12_SampleNo_24_from_850_sec_to_1184_sec_72.wav',\n",
       " 'Annotation_from_Ch_1_but_output_from_Ch_1_filename_190508_183_st12_SampleNo_24_from_850_sec_to_1184_sec_73.wav',\n",
       " 'Annotation_from_Ch_1_but_output_from_Ch_1_filename_190508_183_st12_SampleNo_24_from_850_sec_to_1184_sec_74.wav',\n",
       " 'Annotation_from_Ch_1_but_output_from_Ch_1_filename_190508_183_st12_SampleNo_24_from_850_sec_to_1184_sec_75.wav',\n",
       " 'Annotation_from_Ch_1_but_output_from_Ch_1_filename_190508_183_st12_SampleNo_24_from_850_sec_to_1184_sec_76.wav',\n",
       " 'Annotation_from_Ch_1_but_output_from_Ch_1_filename_190508_183_st12_SampleNo_24_from_850_sec_to_1184_sec_77.wav',\n",
       " 'Annotation_from_Ch_1_but_output_from_Ch_1_filename_190508_183_st12_SampleNo_24_from_850_sec_to_1184_sec_78.wav',\n",
       " 'Annotation_from_Ch_1_but_output_from_Ch_1_filename_190508_183_st12_SampleNo_24_from_850_sec_to_1184_sec_79.wav',\n",
       " 'Annotation_from_Ch_1_but_output_from_Ch_1_filename_190508_183_st12_SampleNo_24_from_850_sec_to_1184_sec_8.wav',\n",
       " 'Annotation_from_Ch_1_but_output_from_Ch_1_filename_190508_183_st12_SampleNo_24_from_850_sec_to_1184_sec_80.wav',\n",
       " 'Annotation_from_Ch_1_but_output_from_Ch_1_filename_190508_183_st12_SampleNo_24_from_850_sec_to_1184_sec_81.wav',\n",
       " 'Annotation_from_Ch_1_but_output_from_Ch_1_filename_190508_183_st12_SampleNo_24_from_850_sec_to_1184_sec_82.wav',\n",
       " 'Annotation_from_Ch_1_but_output_from_Ch_1_filename_190508_183_st12_SampleNo_24_from_850_sec_to_1184_sec_9.wav',\n",
       " 'Annotation_from_Ch_1_but_output_from_Ch_1_filename_190508_183_st12_SampleNo_25_from_1238_sec_to_1242_sec.wav',\n",
       " 'Annotation_from_Ch_1_but_output_from_Ch_1_filename_190508_183_st12_SampleNo_26_from_1260_sec_to_1266_sec.wav',\n",
       " 'Annotation_from_Ch_1_but_output_from_Ch_1_filename_190508_183_st12_SampleNo_27_from_1268_sec_to_1272_sec.wav',\n",
       " 'Annotation_from_Ch_1_but_output_from_Ch_1_filename_190508_183_st12_SampleNo_28_from_1290_sec_to_1296_sec.wav',\n",
       " 'Annotation_from_Ch_1_but_output_from_Ch_1_filename_190508_183_st12_SampleNo_29_from_1342_sec_to_1346_sec.wav',\n",
       " 'Annotation_from_Ch_1_but_output_from_Ch_1_filename_190508_183_st12_SampleNo_30_from_1420_sec_to_1430_sec.wav',\n",
       " 'Annotation_from_Ch_1_but_output_from_Ch_1_filename_190508_183_st12_SampleNo_31_from_1454_sec_to_1464_sec.wav',\n",
       " 'Annotation_from_Ch_1_but_output_from_Ch_1_filename_190508_183_st12_SampleNo_32_from_1482_sec_to_1486_sec.wav',\n",
       " 'Annotation_from_Ch_1_but_output_from_Ch_1_filename_190508_183_st12_SampleNo_33_from_1522_sec_to_1526_sec.wav',\n",
       " 'Annotation_from_Ch_1_but_output_from_Ch_1_filename_190508_183_st12_SampleNo_34_from_1534_sec_to_1546_sec_1.wav',\n",
       " 'Annotation_from_Ch_1_but_output_from_Ch_1_filename_190508_183_st12_SampleNo_34_from_1534_sec_to_1546_sec_2.wav',\n",
       " 'Annotation_from_Ch_1_but_output_from_Ch_1_filename_190508_183_st12_SampleNo_35_from_1556_sec_to_1564_sec.wav',\n",
       " 'Annotation_from_Ch_1_but_output_from_Ch_1_filename_190508_183_st12_SampleNo_36_from_1566_sec_to_1578_sec_1.wav',\n",
       " 'Annotation_from_Ch_1_but_output_from_Ch_1_filename_190508_183_st12_SampleNo_36_from_1566_sec_to_1578_sec_2.wav',\n",
       " 'Annotation_from_Ch_1_but_output_from_Ch_1_filename_190508_183_st12_SampleNo_37_from_1590_sec_to_1604_sec_1.wav',\n",
       " 'Annotation_from_Ch_1_but_output_from_Ch_1_filename_190508_183_st12_SampleNo_37_from_1590_sec_to_1604_sec_2.wav',\n",
       " 'Annotation_from_Ch_1_but_output_from_Ch_1_filename_190508_183_st12_SampleNo_38_from_1606_sec_to_1616_sec.wav',\n",
       " 'Annotation_from_Ch_1_but_output_from_Ch_1_filename_190508_183_st12_SampleNo_39_from_1622_sec_to_1628_sec.wav',\n",
       " 'Annotation_from_Ch_1_but_output_from_Ch_1_filename_190508_183_st12_SampleNo_40_from_1632_sec_to_1638_sec.wav',\n",
       " 'Annotation_from_Ch_1_but_output_from_Ch_1_filename_190508_183_st12_SampleNo_41_from_1658_sec_to_1666_sec.wav',\n",
       " 'Annotation_from_Ch_1_but_output_from_Ch_1_filename_190508_183_st12_SampleNo_42_from_1690_sec_to_1696_sec.wav',\n",
       " 'Annotation_from_Ch_1_but_output_from_Ch_1_filename_190508_183_st12_SampleNo_43_from_1698_sec_to_1712_sec_1.wav',\n",
       " 'Annotation_from_Ch_1_but_output_from_Ch_1_filename_190508_183_st12_SampleNo_43_from_1698_sec_to_1712_sec_2.wav',\n",
       " 'Annotation_from_Ch_1_but_output_from_Ch_1_filename_190508_183_st12_SampleNo_44_from_1738_sec_to_1744_sec.wav',\n",
       " 'Annotation_from_Ch_1_but_output_from_Ch_1_filename_190508_183_st12_SampleNo_45_from_1786_sec_to_1804_sec_1.wav',\n",
       " 'Annotation_from_Ch_1_but_output_from_Ch_1_filename_190508_183_st12_SampleNo_45_from_1786_sec_to_1804_sec_2.wav',\n",
       " 'Annotation_from_Ch_1_but_output_from_Ch_1_filename_190508_183_st12_SampleNo_45_from_1786_sec_to_1804_sec_3.wav',\n",
       " 'Annotation_from_Ch_1_but_output_from_Ch_1_filename_190508_183_st12_SampleNo_46_from_1828_sec_to_1834_sec.wav',\n",
       " 'Annotation_from_Ch_1_but_output_from_Ch_1_filename_190508_183_st12_SampleNo_47_from_2452_sec_to_2464_sec_1.wav',\n",
       " 'Annotation_from_Ch_1_but_output_from_Ch_1_filename_190508_183_st12_SampleNo_47_from_2452_sec_to_2464_sec_2.wav',\n",
       " 'Annotation_from_Ch_1_but_output_from_Ch_1_filename_190508_183_st12_SampleNo_48_from_2476_sec_to_2482_sec.wav',\n",
       " 'Annotation_from_Ch_1_but_output_from_Ch_1_filename_190508_183_st12_SampleNo_49_from_2486_sec_to_2494_sec.wav',\n",
       " 'Annotation_from_Ch_1_but_output_from_Ch_1_filename_190508_183_st12_SampleNo_4_from_82_sec_to_88_sec.wav',\n",
       " 'Annotation_from_Ch_1_but_output_from_Ch_1_filename_190508_183_st12_SampleNo_50_from_2500_sec_to_2508_sec.wav',\n",
       " 'Annotation_from_Ch_1_but_output_from_Ch_1_filename_190508_183_st12_SampleNo_51_from_2514_sec_to_2542_sec_1.wav',\n",
       " 'Annotation_from_Ch_1_but_output_from_Ch_1_filename_190508_183_st12_SampleNo_51_from_2514_sec_to_2542_sec_2.wav',\n",
       " 'Annotation_from_Ch_1_but_output_from_Ch_1_filename_190508_183_st12_SampleNo_51_from_2514_sec_to_2542_sec_3.wav',\n",
       " 'Annotation_from_Ch_1_but_output_from_Ch_1_filename_190508_183_st12_SampleNo_51_from_2514_sec_to_2542_sec_4.wav',\n",
       " 'Annotation_from_Ch_1_but_output_from_Ch_1_filename_190508_183_st12_SampleNo_51_from_2514_sec_to_2542_sec_5.wav',\n",
       " 'Annotation_from_Ch_1_but_output_from_Ch_1_filename_190508_183_st12_SampleNo_51_from_2514_sec_to_2542_sec_6.wav',\n",
       " 'Annotation_from_Ch_1_but_output_from_Ch_1_filename_190508_183_st12_SampleNo_52_from_2544_sec_to_2550_sec.wav',\n",
       " 'Annotation_from_Ch_1_but_output_from_Ch_1_filename_190508_183_st12_SampleNo_53_from_2556_sec_to_2566_sec.wav',\n",
       " 'Annotation_from_Ch_1_but_output_from_Ch_1_filename_190508_183_st12_SampleNo_54_from_2570_sec_to_2580_sec.wav',\n",
       " 'Annotation_from_Ch_1_but_output_from_Ch_1_filename_190508_183_st12_SampleNo_55_from_2586_sec_to_2596_sec.wav',\n",
       " 'Annotation_from_Ch_1_but_output_from_Ch_1_filename_190508_183_st12_SampleNo_56_from_2620_sec_to_2626_sec.wav',\n",
       " 'Annotation_from_Ch_1_but_output_from_Ch_1_filename_190508_183_st12_SampleNo_57_from_2638_sec_to_2644_sec.wav',\n",
       " 'Annotation_from_Ch_1_but_output_from_Ch_1_filename_190508_183_st12_SampleNo_58_from_2682_sec_to_2690_sec.wav',\n",
       " 'Annotation_from_Ch_1_but_output_from_Ch_1_filename_190508_183_st12_SampleNo_59_from_2700_sec_to_2706_sec.wav',\n",
       " 'Annotation_from_Ch_1_but_output_from_Ch_1_filename_190508_183_st12_SampleNo_5_from_90_sec_to_106_sec_1.wav',\n",
       " 'Annotation_from_Ch_1_but_output_from_Ch_1_filename_190508_183_st12_SampleNo_5_from_90_sec_to_106_sec_2.wav',\n",
       " 'Annotation_from_Ch_1_but_output_from_Ch_1_filename_190508_183_st12_SampleNo_5_from_90_sec_to_106_sec_3.wav',\n",
       " 'Annotation_from_Ch_1_but_output_from_Ch_1_filename_190508_183_st12_SampleNo_60_from_2710_sec_to_2720_sec.wav',\n",
       " 'Annotation_from_Ch_1_but_output_from_Ch_1_filename_190508_183_st12_SampleNo_61_from_2808_sec_to_2812_sec.wav',\n",
       " 'Annotation_from_Ch_1_but_output_from_Ch_1_filename_190508_183_st12_SampleNo_62_from_2902_sec_to_2908_sec.wav',\n",
       " 'Annotation_from_Ch_1_but_output_from_Ch_1_filename_190508_183_st12_SampleNo_63_from_2936_sec_to_2946_sec.wav',\n",
       " 'Annotation_from_Ch_1_but_output_from_Ch_1_filename_190508_183_st12_SampleNo_64_from_2974_sec_to_2980_sec.wav',\n",
       " 'Annotation_from_Ch_1_but_output_from_Ch_1_filename_190508_183_st12_SampleNo_65_from_2996_sec_to_3000_sec.wav',\n",
       " 'Annotation_from_Ch_1_but_output_from_Ch_1_filename_190508_183_st12_SampleNo_66_from_3008_sec_to_3014_sec.wav',\n",
       " 'Annotation_from_Ch_1_but_output_from_Ch_1_filename_190508_183_st12_SampleNo_67_from_3032_sec_to_3036_sec.wav',\n",
       " 'Annotation_from_Ch_1_but_output_from_Ch_1_filename_190508_183_st12_SampleNo_68_from_3046_sec_to_3050_sec.wav',\n",
       " 'Annotation_from_Ch_1_but_output_from_Ch_1_filename_190508_183_st12_SampleNo_69_from_3124_sec_to_3130_sec.wav',\n",
       " 'Annotation_from_Ch_1_but_output_from_Ch_1_filename_190508_183_st12_SampleNo_6_from_112_sec_to_122_sec.wav',\n",
       " 'Annotation_from_Ch_1_but_output_from_Ch_1_filename_190508_183_st12_SampleNo_70_from_3166_sec_to_3174_sec.wav',\n",
       " 'Annotation_from_Ch_1_but_output_from_Ch_1_filename_190508_183_st12_SampleNo_71_from_3206_sec_to_3212_sec.wav',\n",
       " 'Annotation_from_Ch_1_but_output_from_Ch_1_filename_190508_183_st12_SampleNo_72_from_3248_sec_to_3256_sec.wav',\n",
       " 'Annotation_from_Ch_1_but_output_from_Ch_1_filename_190508_183_st12_SampleNo_73_from_3316_sec_to_3320_sec.wav',\n",
       " 'Annotation_from_Ch_1_but_output_from_Ch_1_filename_190508_183_st12_SampleNo_74_from_3326_sec_to_3332_sec.wav',\n",
       " 'Annotation_from_Ch_1_but_output_from_Ch_1_filename_190508_183_st12_SampleNo_75_from_3350_sec_to_3356_sec.wav',\n",
       " 'Annotation_from_Ch_1_but_output_from_Ch_1_filename_190508_183_st12_SampleNo_76_from_3360_sec_to_3366_sec.wav',\n",
       " 'Annotation_from_Ch_1_but_output_from_Ch_1_filename_190508_183_st12_SampleNo_77_from_3382_sec_to_3388_sec.wav',\n",
       " 'Annotation_from_Ch_1_but_output_from_Ch_1_filename_190508_183_st12_SampleNo_78_from_3392_sec_to_3398_sec.wav',\n",
       " 'Annotation_from_Ch_1_but_output_from_Ch_1_filename_190508_183_st12_SampleNo_79_from_3412_sec_to_3420_sec.wav',\n",
       " 'Annotation_from_Ch_1_but_output_from_Ch_1_filename_190508_183_st12_SampleNo_7_from_124_sec_to_138_sec_1.wav',\n",
       " 'Annotation_from_Ch_1_but_output_from_Ch_1_filename_190508_183_st12_SampleNo_7_from_124_sec_to_138_sec_2.wav',\n",
       " 'Annotation_from_Ch_1_but_output_from_Ch_1_filename_190508_183_st12_SampleNo_80_from_3424_sec_to_3430_sec.wav',\n",
       " 'Annotation_from_Ch_1_but_output_from_Ch_1_filename_190508_183_st12_SampleNo_81_from_3456_sec_to_3466_sec.wav',\n",
       " 'Annotation_from_Ch_1_but_output_from_Ch_1_filename_190508_183_st12_SampleNo_82_from_3476_sec_to_3494_sec_1.wav',\n",
       " 'Annotation_from_Ch_1_but_output_from_Ch_1_filename_190508_183_st12_SampleNo_82_from_3476_sec_to_3494_sec_2.wav',\n",
       " 'Annotation_from_Ch_1_but_output_from_Ch_1_filename_190508_183_st12_SampleNo_8_from_144_sec_to_156_sec_1.wav',\n",
       " 'Annotation_from_Ch_1_but_output_from_Ch_1_filename_190508_183_st12_SampleNo_8_from_144_sec_to_156_sec_2.wav',\n",
       " 'Annotation_from_Ch_1_but_output_from_Ch_1_filename_190508_183_st12_SampleNo_9_from_158_sec_to_168_sec.wav']"
      ]
     },
     "execution_count": 80,
     "metadata": {},
     "output_type": "execute_result"
    }
   ],
   "source": [
    "os.listdir(os.path.join('data', 'snoring'))"
   ]
  },
  {
   "cell_type": "code",
   "execution_count": 81,
   "metadata": {},
   "outputs": [
    {
     "data": {
      "text/plain": [
       "300"
      ]
     },
     "execution_count": 81,
     "metadata": {},
     "output_type": "execute_result"
    }
   ],
   "source": [
    "count"
   ]
  },
  {
   "cell_type": "code",
   "execution_count": 82,
   "metadata": {},
   "outputs": [
    {
     "data": {
      "text/plain": [
       "[159997,\n",
       " 96000,\n",
       " 96000,\n",
       " 96000,\n",
       " 96000,\n",
       " 96000,\n",
       " 96000,\n",
       " 96000,\n",
       " 96000,\n",
       " 96000,\n",
       " 96000,\n",
       " 96000,\n",
       " 96000,\n",
       " 96000,\n",
       " 96000,\n",
       " 96000,\n",
       " 96000,\n",
       " 96000,\n",
       " 96000,\n",
       " 96000,\n",
       " 96000,\n",
       " 96000,\n",
       " 96000,\n",
       " 159999,\n",
       " 96000,\n",
       " 96000,\n",
       " 96000,\n",
       " 96000,\n",
       " 96000,\n",
       " 96000,\n",
       " 96000,\n",
       " 96000,\n",
       " 96000,\n",
       " 96000,\n",
       " 96000,\n",
       " 96000,\n",
       " 96000,\n",
       " 96000,\n",
       " 96000,\n",
       " 96000,\n",
       " 96000,\n",
       " 96000,\n",
       " 96000,\n",
       " 96000,\n",
       " 96000,\n",
       " 159999,\n",
       " 127999,\n",
       " 96000,\n",
       " 96000,\n",
       " 96000,\n",
       " 96000,\n",
       " 96000,\n",
       " 96000,\n",
       " 96000,\n",
       " 96000,\n",
       " 159999,\n",
       " 96000,\n",
       " 96000,\n",
       " 96000,\n",
       " 96000,\n",
       " 96000,\n",
       " 96000,\n",
       " 96000,\n",
       " 96000,\n",
       " 96000,\n",
       " 96000,\n",
       " 96000,\n",
       " 96000,\n",
       " 96000,\n",
       " 96000,\n",
       " 96000,\n",
       " 96000,\n",
       " 96000,\n",
       " 96000,\n",
       " 96000,\n",
       " 96000,\n",
       " 96000,\n",
       " 96000,\n",
       " 96000,\n",
       " 96000,\n",
       " 96000,\n",
       " 96000,\n",
       " 96000,\n",
       " 96000,\n",
       " 96000,\n",
       " 96000,\n",
       " 96000,\n",
       " 96000,\n",
       " 96000,\n",
       " 96000,\n",
       " 96000,\n",
       " 96000,\n",
       " 96000,\n",
       " 96000,\n",
       " 96000,\n",
       " 96000,\n",
       " 96000,\n",
       " 96000,\n",
       " 96000,\n",
       " 96000,\n",
       " 96000,\n",
       " 96000,\n",
       " 96000,\n",
       " 96000,\n",
       " 96000,\n",
       " 96000,\n",
       " 96000,\n",
       " 96000,\n",
       " 96000,\n",
       " 96000,\n",
       " 96000,\n",
       " 96000,\n",
       " 96000,\n",
       " 96000,\n",
       " 96000,\n",
       " 96000,\n",
       " 96000,\n",
       " 96000,\n",
       " 96000,\n",
       " 96000,\n",
       " 96000,\n",
       " 96000,\n",
       " 96000,\n",
       " 96000,\n",
       " 96000,\n",
       " 96000,\n",
       " 96000,\n",
       " 96000,\n",
       " 96000,\n",
       " 96000,\n",
       " 96000,\n",
       " 96000,\n",
       " 96000,\n",
       " 96000,\n",
       " 96000,\n",
       " 96000,\n",
       " 96000,\n",
       " 96000,\n",
       " 96000,\n",
       " 96000,\n",
       " 96000,\n",
       " 96000,\n",
       " 96000,\n",
       " 96000,\n",
       " 96000,\n",
       " 96000,\n",
       " 96000,\n",
       " 96000,\n",
       " 96000,\n",
       " 96000,\n",
       " 96000,\n",
       " 96000,\n",
       " 96000,\n",
       " 96000,\n",
       " 96000,\n",
       " 96000,\n",
       " 96000,\n",
       " 96000,\n",
       " 96000,\n",
       " 96000,\n",
       " 96000,\n",
       " 96000,\n",
       " 96000,\n",
       " 96000,\n",
       " 96000,\n",
       " 96000,\n",
       " 96000,\n",
       " 96000,\n",
       " 96000,\n",
       " 96000,\n",
       " 96000,\n",
       " 96000,\n",
       " 96000,\n",
       " 96000,\n",
       " 96000,\n",
       " 96000,\n",
       " 96000,\n",
       " 96000,\n",
       " 96000,\n",
       " 96000,\n",
       " 96000,\n",
       " 96000,\n",
       " 96000,\n",
       " 96000,\n",
       " 96000,\n",
       " 96000,\n",
       " 96000,\n",
       " 96000,\n",
       " 96000,\n",
       " 96000,\n",
       " 96000,\n",
       " 96000,\n",
       " 96000,\n",
       " 96000,\n",
       " 96000,\n",
       " 96000,\n",
       " 96000,\n",
       " 96000,\n",
       " 96000,\n",
       " 96000,\n",
       " 96000,\n",
       " 96000,\n",
       " 96000,\n",
       " 96000,\n",
       " 96000,\n",
       " 96000,\n",
       " 96000,\n",
       " 96000,\n",
       " 96000,\n",
       " 96000,\n",
       " 96000,\n",
       " 96000,\n",
       " 96000,\n",
       " 96000,\n",
       " 96000,\n",
       " 96000,\n",
       " 96000,\n",
       " 96000,\n",
       " 96000,\n",
       " 63999,\n",
       " 95999,\n",
       " 63999,\n",
       " 95999,\n",
       " 63999,\n",
       " 159999,\n",
       " 159999,\n",
       " 63999,\n",
       " 63999,\n",
       " 96000,\n",
       " 96000,\n",
       " 127999,\n",
       " 96000,\n",
       " 96000,\n",
       " 96000,\n",
       " 96000,\n",
       " 159999,\n",
       " 95999,\n",
       " 95999,\n",
       " 127999,\n",
       " 95999,\n",
       " 96000,\n",
       " 96000,\n",
       " 95999,\n",
       " 96000,\n",
       " 96000,\n",
       " 96000,\n",
       " 95999,\n",
       " 96000,\n",
       " 96000,\n",
       " 95999,\n",
       " 127999,\n",
       " 95999,\n",
       " 127999,\n",
       " 96000,\n",
       " 96000,\n",
       " 96000,\n",
       " 96000,\n",
       " 96000,\n",
       " 96000,\n",
       " 95999,\n",
       " 159999,\n",
       " 159999,\n",
       " 159999,\n",
       " 95999,\n",
       " 95999,\n",
       " 127999,\n",
       " 95999,\n",
       " 96000,\n",
       " 96000,\n",
       " 96000,\n",
       " 159999,\n",
       " 63999,\n",
       " 95999,\n",
       " 159999,\n",
       " 95999,\n",
       " 63999,\n",
       " 95999,\n",
       " 63999,\n",
       " 63999,\n",
       " 95999,\n",
       " 159999,\n",
       " 127999,\n",
       " 95999,\n",
       " 127999,\n",
       " 63999,\n",
       " 95999,\n",
       " 95999,\n",
       " 95999,\n",
       " 95999,\n",
       " 95999,\n",
       " 127999,\n",
       " 96000,\n",
       " 96000,\n",
       " 95999,\n",
       " 159999,\n",
       " 96000,\n",
       " 96000,\n",
       " 96000,\n",
       " 96000,\n",
       " 159999]"
      ]
     },
     "execution_count": 82,
     "metadata": {},
     "output_type": "execute_result"
    }
   ],
   "source": [
    "lengths"
   ]
  },
  {
   "cell_type": "markdown",
   "metadata": {},
   "source": [
    "## 4.2 Calculate Mean, Min and Max"
   ]
  },
  {
   "cell_type": "code",
   "execution_count": 83,
   "metadata": {
    "jupyter": {
     "source_hidden": true
    },
    "tags": []
   },
   "outputs": [
    {
     "data": {
      "text/plain": [
       "<tf.Tensor: shape=(), dtype=int32, numpy=99093>"
      ]
     },
     "execution_count": 83,
     "metadata": {},
     "output_type": "execute_result"
    }
   ],
   "source": [
    "tf.math.reduce_mean(lengths)"
   ]
  },
  {
   "cell_type": "code",
   "execution_count": 84,
   "metadata": {
    "jupyter": {
     "source_hidden": true
    },
    "tags": []
   },
   "outputs": [
    {
     "data": {
      "text/plain": [
       "<tf.Tensor: shape=(), dtype=int32, numpy=63999>"
      ]
     },
     "execution_count": 84,
     "metadata": {},
     "output_type": "execute_result"
    }
   ],
   "source": [
    "tf.math.reduce_min(lengths)"
   ]
  },
  {
   "cell_type": "code",
   "execution_count": 85,
   "metadata": {
    "jupyter": {
     "source_hidden": true
    },
    "tags": []
   },
   "outputs": [
    {
     "data": {
      "text/plain": [
       "<tf.Tensor: shape=(), dtype=int32, numpy=159999>"
      ]
     },
     "execution_count": 85,
     "metadata": {},
     "output_type": "execute_result"
    }
   ],
   "source": [
    "tf.math.reduce_max(lengths)"
   ]
  },
  {
   "cell_type": "code",
   "execution_count": 86,
   "metadata": {},
   "outputs": [
    {
     "data": {
      "text/plain": [
       "3.9999375"
      ]
     },
     "execution_count": 86,
     "metadata": {},
     "output_type": "execute_result"
    }
   ],
   "source": [
    "63999/16000 # avg of anoring data of video"
   ]
  },
  {
   "cell_type": "markdown",
   "metadata": {},
   "source": [
    "# 5. Build Preprocessing Function to Convert to Spectrogram"
   ]
  },
  {
   "cell_type": "markdown",
   "metadata": {},
   "source": [
    "## 5.1 Build Preprocessing Function"
   ]
  },
  {
   "cell_type": "code",
   "execution_count": 87,
   "metadata": {
    "jupyter": {
     "source_hidden": true
    },
    "tags": []
   },
   "outputs": [],
   "source": [
    "def preprocess(file_path, label): \n",
    "    wav = load_wav_16k_mono(file_path)\n",
    "    wav = wav[:48000]\n",
    "    zero_padding = tf.zeros([48000] - tf.shape(wav), dtype=tf.float32)\n",
    "    wav = tf.concat([zero_padding, wav],0)\n",
    "    spectrogram = tf.signal.stft(wav, frame_length=320, frame_step=32)\n",
    "    spectrogram = tf.abs(spectrogram)\n",
    "    spectrogram = tf.expand_dims(spectrogram, axis=2)\n",
    "    return spectrogram, label"
   ]
  },
  {
   "cell_type": "code",
   "execution_count": 88,
   "metadata": {},
   "outputs": [
    {
     "data": {
      "text/plain": [
       "<tf.Tensor: shape=(159997,), dtype=float32, numpy=\n",
       "array([-1.0137098e-08,  8.0040401e-09,  1.9069120e-09, ...,\n",
       "        4.4306824e-03,  4.2187735e-03,  4.2068055e-03], dtype=float32)>"
      ]
     },
     "execution_count": 88,
     "metadata": {},
     "output_type": "execute_result"
    }
   ],
   "source": [
    "wav = load_wav_16k_mono(CAPUCHIN_FILE)\n",
    "wav"
   ]
  },
  {
   "cell_type": "markdown",
   "metadata": {},
   "source": [
    "## 5.2 Test Out the Function and Viz the Spectrogram"
   ]
  },
  {
   "cell_type": "code",
   "execution_count": 89,
   "metadata": {
    "jupyter": {
     "source_hidden": true
    },
    "tags": []
   },
   "outputs": [],
   "source": [
    "filepath, label = positives.shuffle(buffer_size=10000).as_numpy_iterator().next()"
   ]
  },
  {
   "cell_type": "code",
   "execution_count": 90,
   "metadata": {
    "jupyter": {
     "source_hidden": true
    },
    "tags": []
   },
   "outputs": [
    {
     "data": {
      "text/plain": [
       "<tf.Tensor: shape=(1491, 257, 1), dtype=float32, numpy=\n",
       "array([[[5.79495311e-01],\n",
       "        [9.94638145e-01],\n",
       "        [1.45578754e+00],\n",
       "        ...,\n",
       "        [1.33563626e-05],\n",
       "        [1.23487753e-05],\n",
       "        [5.24520874e-06]],\n",
       "\n",
       "       [[1.12440479e+00],\n",
       "        [1.28245676e+00],\n",
       "        [1.48771322e+00],\n",
       "        ...,\n",
       "        [1.44197975e-05],\n",
       "        [9.91701108e-06],\n",
       "        [1.31130219e-06]],\n",
       "\n",
       "       [[1.53419209e+00],\n",
       "        [1.45709741e+00],\n",
       "        [1.17102373e+00],\n",
       "        ...,\n",
       "        [1.51740651e-05],\n",
       "        [1.12793032e-05],\n",
       "        [2.38418579e-06]],\n",
       "\n",
       "       ...,\n",
       "\n",
       "       [[6.64354622e-01],\n",
       "        [1.26324058e+00],\n",
       "        [1.85687661e+00],\n",
       "        ...,\n",
       "        [1.02547710e-05],\n",
       "        [1.35133075e-06],\n",
       "        [3.75509262e-06]],\n",
       "\n",
       "       [[4.14560288e-02],\n",
       "        [1.24621093e+00],\n",
       "        [2.17885351e+00],\n",
       "        ...,\n",
       "        [1.06044354e-05],\n",
       "        [3.77208403e-06],\n",
       "        [1.55903399e-06]],\n",
       "\n",
       "       [[6.86029434e-01],\n",
       "        [1.32817793e+00],\n",
       "        [2.18239427e+00],\n",
       "        ...,\n",
       "        [8.63785488e-07],\n",
       "        [5.91836897e-06],\n",
       "        [5.81145287e-06]]], dtype=float32)>"
      ]
     },
     "execution_count": 90,
     "metadata": {},
     "output_type": "execute_result"
    }
   ],
   "source": [
    "spectrogram, label = preprocess(filepath, label)\n",
    "spectrogram"
   ]
  },
  {
   "cell_type": "code",
   "execution_count": 91,
   "metadata": {
    "jupyter": {
     "source_hidden": true
    },
    "tags": []
   },
   "outputs": [
    {
     "data": {
      "image/png": "[encoded data removed]",
      "text/plain": [
       "<Figure size 2000x1000 with 1 Axes>"
      ]
     },
     "metadata": {},
     "output_type": "display_data"
    }
   ],
   "source": [
    "plt.figure(figsize=(20,10))\n",
    "plt.imshow(tf.transpose(spectrogram)[0])\n",
    "plt.show()"
   ]
  },
  {
   "cell_type": "code",
   "execution_count": 92,
   "metadata": {},
   "outputs": [
    {
     "data": {
      "text/plain": [
       "(b'data\\\\snoring\\\\Annotation_from_Ch_1_but_output_from_Ch_1_filename_190508_183_st12_SampleNo_24_from_850_sec_to_1184_sec_59.wav',\n",
       " 1.0)"
      ]
     },
     "execution_count": 92,
     "metadata": {},
     "output_type": "execute_result"
    }
   ],
   "source": [
    "data.as_numpy_iterator().next()"
   ]
  },
  {
   "cell_type": "markdown",
   "metadata": {},
   "source": [
    "# 6. Create Training and Testing Partitions"
   ]
  },
  {
   "cell_type": "markdown",
   "metadata": {},
   "source": [
    "## 6.1 Create a Tensorflow Data Pipeline"
   ]
  },
  {
   "cell_type": "code",
   "execution_count": 93,
   "metadata": {
    "jupyter": {
     "source_hidden": true
    },
    "tags": []
   },
   "outputs": [
    {
     "name": "stdout",
     "output_type": "stream",
     "text": [
      "WARNING:tensorflow:Using a while_loop for converting IO>AudioResample cause there is no registered converter for this op.\n"
     ]
    }
   ],
   "source": [
    "data = data.map(preprocess)\n",
    "data = data.cache()\n",
    "data = data.shuffle(buffer_size=1000)\n",
    "data = data.batch(16)\n",
    "data = data.prefetch(8)"
   ]
  },
  {
   "cell_type": "markdown",
   "metadata": {},
   "source": [
    "## 6.2 Split into Training and Testing Partitions"
   ]
  },
  {
   "cell_type": "code",
   "execution_count": 94,
   "metadata": {},
   "outputs": [
    {
     "data": {
      "text/plain": [
       "43.4"
      ]
     },
     "execution_count": 94,
     "metadata": {},
     "output_type": "execute_result"
    }
   ],
   "source": [
    "len(data)*.7"
   ]
  },
  {
   "cell_type": "code",
   "execution_count": 95,
   "metadata": {},
   "outputs": [],
   "source": [
    "#"
   ]
  },
  {
   "cell_type": "code",
   "execution_count": 96,
   "metadata": {
    "jupyter": {
     "source_hidden": true
    },
    "tags": []
   },
   "outputs": [],
   "source": [
    "train = data.take(44)\n",
    "test = data.skip(44).take(23)"
   ]
  },
  {
   "cell_type": "markdown",
   "metadata": {},
   "source": [
    "## 6.3 Test One Batch"
   ]
  },
  {
   "cell_type": "code",
   "execution_count": 97,
   "metadata": {
    "jupyter": {
     "source_hidden": true
    },
    "tags": []
   },
   "outputs": [],
   "source": [
    "samples, labels = train.as_numpy_iterator().next()"
   ]
  },
  {
   "cell_type": "code",
   "execution_count": 98,
   "metadata": {
    "jupyter": {
     "source_hidden": true
    },
    "tags": []
   },
   "outputs": [
    {
     "data": {
      "text/plain": [
       "(16, 1491, 257, 1)"
      ]
     },
     "execution_count": 98,
     "metadata": {},
     "output_type": "execute_result"
    }
   ],
   "source": [
    "samples.shape"
   ]
  },
  {
   "cell_type": "markdown",
   "metadata": {},
   "source": [
    "# 7. Build Deep Learning Model"
   ]
  },
  {
   "cell_type": "markdown",
   "metadata": {},
   "source": [
    "## 7.1 Load Tensorflow Dependencies"
   ]
  },
  {
   "cell_type": "code",
   "execution_count": 99,
   "metadata": {
    "jupyter": {
     "source_hidden": true
    },
    "tags": []
   },
   "outputs": [],
   "source": [
    "from tensorflow.keras.models import Sequential\n",
    "from tensorflow.keras.layers import Conv2D, Dense, Flatten"
   ]
  },
  {
   "cell_type": "markdown",
   "metadata": {},
   "source": [
    "## 7.2 Build Sequential Model, Compile and View Summary"
   ]
  },
  {
   "cell_type": "code",
   "execution_count": 162,
   "metadata": {
    "jupyter": {
     "source_hidden": true
    },
    "tags": []
   },
   "outputs": [],
   "source": [
    "model = Sequential()\n",
    "model.add(Conv2D(64, (3,3), activation='relu', input_shape=(1491, 257,1)))\n",
    "model.add(Conv2D(64, (3,3), activation='relu'))\n",
    "model.add(MaxPooling2D(pool_size=(2,2)))\n",
    "model.add(Flatten())\n",
    "\n",
    "model.add(Dense(128, activation='relu'))\n",
    "model.add(Dense(1, activation='sigmoid'))"
   ]
  },
  {
   "cell_type": "code",
   "execution_count": 164,
   "metadata": {
    "jupyter": {
     "source_hidden": true
    },
    "tags": []
   },
   "outputs": [],
   "source": [
    "model.compile('Adam', loss='BinaryCrossentropy', metrics=[tf.keras.metrics.Recall(),tf.keras.metrics.Accuracy()])"
   ]
  },
  {
   "cell_type": "code",
   "execution_count": 165,
   "metadata": {
    "jupyter": {
     "source_hidden": true
    },
    "tags": []
   },
   "outputs": [
    {
     "name": "stdout",
     "output_type": "stream",
     "text": [
      "Model: \"sequential_5\"\n",
      "_________________________________________________________________\n",
      " Layer (type)                Output Shape              Param #   \n",
      "=================================================================\n",
      " conv2d_10 (Conv2D)          (None, 1489, 255, 64)     640       \n",
      "                                                                 \n",
      " conv2d_11 (Conv2D)          (None, 1487, 253, 64)     36928     \n",
      "                                                                 \n",
      " max_pooling2d_5 (MaxPooling  (None, 743, 126, 64)     0         \n",
      " 2D)                                                             \n",
      "                                                                 \n",
      " flatten_5 (Flatten)         (None, 5991552)           0         \n",
      "                                                                 \n",
      " dense_12 (Dense)            (None, 128)               766918784 \n",
      "                                                                 \n",
      " dense_13 (Dense)            (None, 1)                 129       \n",
      "                                                                 \n",
      "=================================================================\n",
      "Total params: 766,956,481\n",
      "Trainable params: 766,956,481\n",
      "Non-trainable params: 0\n",
      "_________________________________________________________________\n"
     ]
    }
   ],
   "source": [
    "model.summary()"
   ]
  },
  {
   "cell_type": "markdown",
   "metadata": {},
   "source": [
    "## 7.3 Fit Model, View Loss and KPI Plots"
   ]
  },
  {
   "cell_type": "code",
   "execution_count": 166,
   "metadata": {
    "jupyter": {
     "source_hidden": true
    },
    "tags": []
   },
   "outputs": [
    {
     "name": "stdout",
     "output_type": "stream",
     "text": [
      "Epoch 1/4\n",
      " 1/44 [..............................] - ETA: 58:11 - loss: 0.6920 - recall_7: 0.2500 - accuracy: 0.0000e+00"
     ]
    }
   ],
   "source": [
    "hist = model.fit(train, epochs=4, validation_data=test)"
   ]
  },
  {
   "cell_type": "code",
   "execution_count": 148,
   "metadata": {
    "jupyter": {
     "source_hidden": true
    },
    "tags": []
   },
   "outputs": [
    {
     "data": {
      "image/png": "[encoded data removed]",
      "text/plain": [
       "<Figure size 640x480 with 1 Axes>"
      ]
     },
     "metadata": {},
     "output_type": "display_data"
    }
   ],
   "source": [
    "plt.title('Loss')\n",
    "plt.plot(hist.history['loss'], 'r')\n",
    "plt.plot(hist.history['val_loss'], 'b')\n",
    "plt.show()"
   ]
  },
  {
   "cell_type": "code",
   "execution_count": 149,
   "metadata": {
    "jupyter": {
     "source_hidden": true
    },
    "tags": []
   },
   "outputs": [
    {
     "data": {
      "image/png": "[encoded data removed]",
      "text/plain": [
       "<Figure size 640x480 with 1 Axes>"
      ]
     },
     "metadata": {},
     "output_type": "display_data"
    }
   ],
   "source": [
    "plt.title('accuracy')\n",
    "plt.plot(hist.history['accuracy'], 'r')\n",
    "plt.plot(hist.history['val_accuracy'], 'b')\n",
    "plt.show()"
   ]
  },
  {
   "cell_type": "code",
   "execution_count": 150,
   "metadata": {
    "jupyter": {
     "source_hidden": true
    },
    "tags": []
   },
   "outputs": [
    {
     "ename": "KeyError",
     "evalue": "'recall_1'",
     "output_type": "error",
     "traceback": [
      "\u001b[1;31m---------------------------------------------------------------------------\u001b[0m",
      "\u001b[1;31mKeyError\u001b[0m                                  Traceback (most recent call last)",
      "Cell \u001b[1;32mIn [150], line 2\u001b[0m\n\u001b[0;32m      1\u001b[0m plt\u001b[39m.\u001b[39mtitle(\u001b[39m'\u001b[39m\u001b[39mRecall_1\u001b[39m\u001b[39m'\u001b[39m)\n\u001b[1;32m----> 2\u001b[0m plt\u001b[39m.\u001b[39mplot(hist\u001b[39m.\u001b[39;49mhistory[\u001b[39m'\u001b[39;49m\u001b[39mrecall_1\u001b[39;49m\u001b[39m'\u001b[39;49m], \u001b[39m'\u001b[39m\u001b[39mr\u001b[39m\u001b[39m'\u001b[39m)\n\u001b[0;32m      3\u001b[0m plt\u001b[39m.\u001b[39mplot(hist\u001b[39m.\u001b[39mhistory[\u001b[39m'\u001b[39m\u001b[39mval_recall_1\u001b[39m\u001b[39m'\u001b[39m], \u001b[39m'\u001b[39m\u001b[39mb\u001b[39m\u001b[39m'\u001b[39m)\n\u001b[0;32m      4\u001b[0m plt\u001b[39m.\u001b[39mshow()\n",
      "\u001b[1;31mKeyError\u001b[0m: 'recall_1'"
     ]
    },
    {
     "data": {
      "image/png": "[encoded data removed]",
      "text/plain": [
       "<Figure size 640x480 with 1 Axes>"
      ]
     },
     "metadata": {},
     "output_type": "display_data"
    }
   ],
   "source": [
    "plt.title('Recall_1')\n",
    "plt.plot(hist.history['recall_1'], 'r')\n",
    "plt.plot(hist.history['val_recall_1'], 'b')\n",
    "plt.show()"
   ]
  },
  {
   "cell_type": "markdown",
   "metadata": {},
   "source": [
    "# 8. Make a Prediction on a Single Clip"
   ]
  },
  {
   "cell_type": "markdown",
   "metadata": {},
   "source": [
    "## 8.1 Get One Batch and Make a Prediction"
   ]
  },
  {
   "cell_type": "code",
   "execution_count": 107,
   "metadata": {
    "jupyter": {
     "source_hidden": true
    },
    "tags": []
   },
   "outputs": [],
   "source": [
    "X_test, y_test = test.as_numpy_iterator().next()"
   ]
  },
  {
   "cell_type": "code",
   "execution_count": 108,
   "metadata": {
    "jupyter": {
     "source_hidden": true
    },
    "tags": []
   },
   "outputs": [
    {
     "name": "stdout",
     "output_type": "stream",
     "text": [
      "1/1 [==============================] - 0s 171ms/step\n"
     ]
    }
   ],
   "source": [
    "yhat = model.predict(X_test)"
   ]
  },
  {
   "cell_type": "markdown",
   "metadata": {},
   "source": [
    "## 8.2 Convert Logits to Classes "
   ]
  },
  {
   "cell_type": "code",
   "execution_count": 109,
   "metadata": {
    "jupyter": {
     "source_hidden": true
    },
    "tags": []
   },
   "outputs": [],
   "source": [
    "yhat = [1 if prediction > 0.5 else 0 for prediction in yhat]"
   ]
  },
  {
   "cell_type": "markdown",
   "metadata": {
    "tags": []
   },
   "source": [
    "# 9. Build Forest Parsing Functions"
   ]
  },
  {
   "cell_type": "markdown",
   "metadata": {},
   "source": [
    "## 9.1 Load up MP3s"
   ]
  },
  {
   "cell_type": "code",
   "execution_count": 110,
   "metadata": {
    "jupyter": {
     "source_hidden": true
    }
   },
   "outputs": [],
   "source": [
    "def load_mp3_16k_mono(filename):\n",
    "    \"\"\" Load a WAV file, convert it to a float tensor, resample to 16 kHz single-channel audio. \"\"\"\n",
    "    res = tfio.audio.AudioIOTensor(filename)\n",
    "    # Convert to tensor and combine channels \n",
    "    tensor = res.to_tensor()\n",
    "    tensor = tf.math.reduce_sum(tensor, axis=1) / 2 \n",
    "    # Extract sample rate and cast\n",
    "    sample_rate = res.rate\n",
    "    sample_rate = tf.cast(sample_rate, dtype=tf.int64)\n",
    "    # Resample to 16 kHz\n",
    "    wav = tfio.audio.resample(tensor, rate_in=sample_rate, rate_out=16000)\n",
    "    return wav"
   ]
  },
  {
   "cell_type": "code",
   "execution_count": 111,
   "metadata": {
    "jupyter": {
     "source_hidden": true
    }
   },
   "outputs": [],
   "source": [
    "mp3 = os.path.join('data', 'detect_snoring', 'recording_00.mp3')"
   ]
  },
  {
   "cell_type": "code",
   "execution_count": 112,
   "metadata": {
    "jupyter": {
     "source_hidden": true
    },
    "tags": []
   },
   "outputs": [],
   "source": [
    "wav = load_mp3_16k_mono(mp3)"
   ]
  },
  {
   "cell_type": "code",
   "execution_count": 113,
   "metadata": {
    "jupyter": {
     "source_hidden": true
    }
   },
   "outputs": [],
   "source": [
    "audio_slices = tf.keras.utils.timeseries_dataset_from_array(wav, wav, sequence_length=48000, sequence_stride=48000, batch_size=1)"
   ]
  },
  {
   "cell_type": "code",
   "execution_count": 114,
   "metadata": {
    "jupyter": {
     "source_hidden": true
    }
   },
   "outputs": [],
   "source": [
    "samples, index = audio_slices.as_numpy_iterator().next()"
   ]
  },
  {
   "cell_type": "markdown",
   "metadata": {},
   "source": [
    "## 9.2 Build Function to Convert Clips into Windowed Spectrograms"
   ]
  },
  {
   "cell_type": "code",
   "execution_count": 115,
   "metadata": {
    "jupyter": {
     "source_hidden": true
    }
   },
   "outputs": [],
   "source": [
    "def preprocess_mp3(sample, index):\n",
    "    sample = sample[0]\n",
    "    zero_padding = tf.zeros([48000] - tf.shape(sample), dtype=tf.float32)\n",
    "    wav = tf.concat([zero_padding, sample],0)\n",
    "    spectrogram = tf.signal.stft(wav, frame_length=320, frame_step=32)\n",
    "    spectrogram = tf.abs(spectrogram)\n",
    "    spectrogram = tf.expand_dims(spectrogram, axis=2)\n",
    "    return spectrogram"
   ]
  },
  {
   "cell_type": "markdown",
   "metadata": {},
   "source": [
    "## 9.3 Convert Longer Clips into Windows and Make Predictions"
   ]
  },
  {
   "cell_type": "code",
   "execution_count": 116,
   "metadata": {
    "jupyter": {
     "source_hidden": true
    }
   },
   "outputs": [],
   "source": [
    "audio_slices = tf.keras.utils.timeseries_dataset_from_array(wav, wav, sequence_length=16000, sequence_stride=16000, batch_size=1)\n",
    "audio_slices = audio_slices.map(preprocess_mp3)\n",
    "audio_slices = audio_slices.batch(64)"
   ]
  },
  {
   "cell_type": "code",
   "execution_count": 141,
   "metadata": {
    "jupyter": {
     "source_hidden": true
    }
   },
   "outputs": [
    {
     "name": "stdout",
     "output_type": "stream",
     "text": [
      "1/1 [==============================] - 0s 304ms/step\n"
     ]
    },
    {
     "data": {
      "text/plain": [
       "array([[0.98531854],\n",
       "       [1.        ],\n",
       "       [0.99999994],\n",
       "       [0.8563359 ],\n",
       "       [0.9999992 ],\n",
       "       [0.0293164 ],\n",
       "       [0.99999446],\n",
       "       [0.04143458],\n",
       "       [0.999999  ],\n",
       "       [0.9980568 ],\n",
       "       [1.        ],\n",
       "       [0.9623788 ],\n",
       "       [0.99999857],\n",
       "       [0.99999577],\n",
       "       [0.01908931],\n",
       "       [0.9999651 ],\n",
       "       [0.9986043 ],\n",
       "       [1.        ],\n",
       "       [0.95204186],\n",
       "       [1.        ],\n",
       "       [0.9999982 ],\n",
       "       [1.        ]], dtype=float32)"
      ]
     },
     "execution_count": 141,
     "metadata": {},
     "output_type": "execute_result"
    }
   ],
   "source": [
    "yhat = model.predict(audio_slices)\n",
    "yhat \n",
    "#yhat = [1 if prediction > 0.3 else 0 for prediction in yhat]"
   ]
  },
  {
   "cell_type": "code",
   "execution_count": 142,
   "metadata": {},
   "outputs": [],
   "source": [
    "import csv\n"
   ]
  },
  {
   "cell_type": "code",
   "execution_count": 144,
   "metadata": {},
   "outputs": [],
   "source": [
    "with open('result.csv', 'w', newline='') as f:\n",
    "    writer = csv.writer(f, delimiter=',')\n",
    "    writer.writerow(['recording'])\n",
    "    for key in yhat:\n",
    "        writer.writerow([key])"
   ]
  },
  {
   "cell_type": "markdown",
   "metadata": {},
   "source": [
    "## 9.4 Group Consecutive Detections"
   ]
  },
  {
   "cell_type": "code",
   "execution_count": 135,
   "metadata": {
    "jupyter": {
     "source_hidden": true
    }
   },
   "outputs": [],
   "source": [
    "from itertools import groupby"
   ]
  },
  {
   "cell_type": "code",
   "execution_count": 139,
   "metadata": {
    "jupyter": {
     "source_hidden": true
    }
   },
   "outputs": [
    {
     "data": {
      "text/plain": [
       "[1, 0, 1, 0, 1, 0, 1]"
      ]
     },
     "execution_count": 139,
     "metadata": {},
     "output_type": "execute_result"
    }
   ],
   "source": [
    "yhat = [key for key, group in groupby(yhat)]\n",
    "yhat\n",
    "#calls = tf.math.reduce_sum(yhat).numpy()\n"
   ]
  },
  {
   "cell_type": "code",
   "execution_count": 137,
   "metadata": {
    "jupyter": {
     "source_hidden": true
    }
   },
   "outputs": [
    {
     "data": {
      "text/plain": [
       "4"
      ]
     },
     "execution_count": 137,
     "metadata": {},
     "output_type": "execute_result"
    }
   ],
   "source": [
    "calls"
   ]
  },
  {
   "cell_type": "markdown",
   "metadata": {},
   "source": [
    "# 10. Make Predictions"
   ]
  },
  {
   "cell_type": "markdown",
   "metadata": {},
   "source": [
    "## 10.1 Loop over all recordings and make predictions"
   ]
  },
  {
   "cell_type": "code",
   "execution_count": 121,
   "metadata": {
    "jupyter": {
     "source_hidden": true
    }
   },
   "outputs": [
    {
     "name": "stdout",
     "output_type": "stream",
     "text": [
      "1/1 [==============================] - 0s 379ms/step\n",
      "1/1 [==============================] - 0s 421ms/step\n",
      "1/1 [==============================] - 0s 246ms/step\n",
      "1/1 [==============================] - 0s 381ms/step\n",
      "1/1 [==============================] - 0s 495ms/step\n",
      "1/1 [==============================] - 0s 335ms/step\n",
      "1/1 [==============================] - 0s 454ms/step\n",
      "1/1 [==============================] - 0s 281ms/step\n"
     ]
    }
   ],
   "source": [
    "results = {}\n",
    "for file in os.listdir(os.path.join('data', 'detect_snoring')):\n",
    "    FILEPATH = os.path.join('data','detect_snoring', file)\n",
    "    \n",
    "    wav = load_mp3_16k_mono(FILEPATH)\n",
    "    audio_slices = tf.keras.utils.timeseries_dataset_from_array(wav, wav, sequence_length=48000, sequence_stride=48000, batch_size=1)\n",
    "    audio_slices = audio_slices.map(preprocess_mp3)\n",
    "    audio_slices = audio_slices.batch(64)\n",
    "    \n",
    "    yhat = model.predict(audio_slices)\n",
    "    \n",
    "    results[file] = yhat"
   ]
  },
  {
   "cell_type": "code",
   "execution_count": 122,
   "metadata": {
    "jupyter": {
     "source_hidden": true
    },
    "scrolled": true,
    "tags": []
   },
   "outputs": [
    {
     "data": {
      "text/plain": [
       "{'recording_00.mp3': array([[4.7043832e-03],\n",
       "        [7.0470758e-03],\n",
       "        [9.8258340e-01],\n",
       "        [7.5803713e-05],\n",
       "        [2.5357438e-02],\n",
       "        [2.5805712e-04],\n",
       "        [2.2757133e-04],\n",
       "        [5.1007535e-02],\n",
       "        [3.1508107e-04],\n",
       "        [3.1719783e-01],\n",
       "        [1.9322200e-05],\n",
       "        [1.4197583e-01],\n",
       "        [1.1367285e-04],\n",
       "        [9.9999887e-01],\n",
       "        [9.4733405e-01],\n",
       "        [9.6024776e-01],\n",
       "        [6.4349556e-01],\n",
       "        [9.9996889e-01],\n",
       "        [9.9676514e-01],\n",
       "        [9.9999350e-01],\n",
       "        [9.9987268e-01],\n",
       "        [1.5168231e-03],\n",
       "        [9.9999857e-01],\n",
       "        [1.1483893e-05],\n",
       "        [1.2393756e-03],\n",
       "        [9.9905688e-01],\n",
       "        [5.6403520e-04],\n",
       "        [9.9999946e-01],\n",
       "        [9.9384928e-01],\n",
       "        [9.9996722e-01]], dtype=float32),\n",
       " 'recording_01.mp3': array([[0.00879991],\n",
       "        [0.26661402],\n",
       "        [0.00312388],\n",
       "        [0.00665168],\n",
       "        [0.77479964],\n",
       "        [0.00242635],\n",
       "        [0.09279201],\n",
       "        [0.01558406],\n",
       "        [0.01663204],\n",
       "        [0.00908642],\n",
       "        [0.00297939],\n",
       "        [0.04344244],\n",
       "        [0.00107202],\n",
       "        [0.03212983],\n",
       "        [0.02053662],\n",
       "        [0.525962  ],\n",
       "        [0.10332897],\n",
       "        [0.07301904],\n",
       "        [0.13085945],\n",
       "        [0.04158202],\n",
       "        [0.06462677],\n",
       "        [0.05318303],\n",
       "        [0.01364202],\n",
       "        [0.03047237],\n",
       "        [0.01266957],\n",
       "        [0.02219144],\n",
       "        [0.24118337],\n",
       "        [0.12403847],\n",
       "        [0.26962623],\n",
       "        [0.10925284],\n",
       "        [0.2477112 ],\n",
       "        [0.18390903],\n",
       "        [0.08205666]], dtype=float32),\n",
       " 'recording_03.mp3': array([[0.99948364],\n",
       "        [0.9782945 ],\n",
       "        [0.9962078 ],\n",
       "        [0.9822231 ],\n",
       "        [0.9999917 ],\n",
       "        [0.9999999 ],\n",
       "        [0.99850994],\n",
       "        [1.        ],\n",
       "        [0.9992397 ],\n",
       "        [1.        ],\n",
       "        [0.98563975]], dtype=float32),\n",
       " 'recording_04.mp3': array([[3.3404629e-06],\n",
       "        [9.9999356e-01],\n",
       "        [9.8311494e-04],\n",
       "        [1.0000000e+00],\n",
       "        [1.0000000e+00],\n",
       "        [7.0062160e-02],\n",
       "        [3.9834581e-02],\n",
       "        [4.1424817e-05],\n",
       "        [9.9999714e-01],\n",
       "        [9.1994756e-01],\n",
       "        [9.9251938e-01],\n",
       "        [1.0000000e+00],\n",
       "        [4.2137299e-02],\n",
       "        [1.6735544e-02],\n",
       "        [9.9841535e-01],\n",
       "        [4.4425242e-02],\n",
       "        [1.0000000e+00],\n",
       "        [4.9796358e-06],\n",
       "        [1.0000000e+00],\n",
       "        [2.7424421e-02],\n",
       "        [5.1532220e-03],\n",
       "        [2.2637395e-02],\n",
       "        [7.2149746e-03],\n",
       "        [1.2717439e-02],\n",
       "        [1.0000000e+00],\n",
       "        [9.3843108e-03],\n",
       "        [6.6585653e-02],\n",
       "        [4.3482152e-05]], dtype=float32),\n",
       " 'recording_05.mp3': array([[9.9770695e-01],\n",
       "        [1.0000000e+00],\n",
       "        [3.7859183e-02],\n",
       "        [1.4271094e-01],\n",
       "        [3.0281344e-01],\n",
       "        [1.4889558e-03],\n",
       "        [1.1854132e-02],\n",
       "        [2.2235329e-03],\n",
       "        [1.7375175e-02],\n",
       "        [2.2446143e-02],\n",
       "        [9.1333417e-03],\n",
       "        [8.4563923e-01],\n",
       "        [9.9402159e-01],\n",
       "        [1.0000000e+00],\n",
       "        [3.0322654e-02],\n",
       "        [1.8752461e-02],\n",
       "        [1.1665161e-02],\n",
       "        [9.7794944e-01],\n",
       "        [1.0000000e+00],\n",
       "        [2.8231852e-02],\n",
       "        [1.0000000e+00],\n",
       "        [1.8570310e-02],\n",
       "        [6.3809985e-01],\n",
       "        [2.4131553e-01],\n",
       "        [2.5999807e-03],\n",
       "        [1.1267928e-02],\n",
       "        [9.5933479e-01],\n",
       "        [9.9990463e-01],\n",
       "        [5.5896716e-15],\n",
       "        [9.6970862e-01],\n",
       "        [9.9998772e-01],\n",
       "        [1.4955989e-01],\n",
       "        [9.7883683e-01],\n",
       "        [9.9999988e-01],\n",
       "        [9.9570405e-01],\n",
       "        [4.6756580e-03],\n",
       "        [2.1306857e-01],\n",
       "        [1.9906517e-02],\n",
       "        [7.0842458e-03],\n",
       "        [3.3954952e-03]], dtype=float32),\n",
       " 'recording_06.mp3': array([[1.        ],\n",
       "        [1.        ],\n",
       "        [1.        ],\n",
       "        [1.        ],\n",
       "        [1.        ],\n",
       "        [1.        ],\n",
       "        [1.        ],\n",
       "        [1.        ],\n",
       "        [1.        ],\n",
       "        [1.        ],\n",
       "        [1.        ],\n",
       "        [1.        ],\n",
       "        [1.        ],\n",
       "        [1.        ],\n",
       "        [1.        ],\n",
       "        [1.        ],\n",
       "        [1.        ],\n",
       "        [1.        ],\n",
       "        [0.99999636],\n",
       "        [0.9999998 ],\n",
       "        [0.9991169 ],\n",
       "        [0.99999946],\n",
       "        [0.9999935 ],\n",
       "        [0.99999976],\n",
       "        [0.9989123 ],\n",
       "        [1.        ],\n",
       "        [0.9999987 ],\n",
       "        [1.        ]], dtype=float32),\n",
       " 'recording_07.mp3': array([[0.777936  ],\n",
       "        [0.74343294],\n",
       "        [0.1980694 ],\n",
       "        [0.10813982],\n",
       "        [0.4971238 ],\n",
       "        [0.0276603 ],\n",
       "        [0.7380058 ],\n",
       "        [0.9752207 ],\n",
       "        [0.97155815],\n",
       "        [0.6721624 ],\n",
       "        [0.7270755 ],\n",
       "        [0.386952  ],\n",
       "        [0.17209339],\n",
       "        [0.28369012],\n",
       "        [0.3236202 ],\n",
       "        [0.06519333],\n",
       "        [0.17346096],\n",
       "        [0.09082586],\n",
       "        [0.41267315],\n",
       "        [0.38402122],\n",
       "        [0.74066824],\n",
       "        [0.11970699],\n",
       "        [0.4018226 ],\n",
       "        [0.47860736],\n",
       "        [0.634683  ],\n",
       "        [0.37836307],\n",
       "        [0.6529278 ],\n",
       "        [0.43631065],\n",
       "        [0.49193984],\n",
       "        [0.80847406],\n",
       "        [0.29425785],\n",
       "        [0.70468694],\n",
       "        [0.24201542],\n",
       "        [0.4353164 ],\n",
       "        [0.37049213],\n",
       "        [0.16428079],\n",
       "        [0.5562359 ],\n",
       "        [0.06608501]], dtype=float32),\n",
       " 'recording_08.mp3': array([[0.98531854],\n",
       "        [1.        ],\n",
       "        [0.99999994],\n",
       "        [0.8563359 ],\n",
       "        [0.9999992 ],\n",
       "        [0.0293164 ],\n",
       "        [0.99999446],\n",
       "        [0.04143458],\n",
       "        [0.999999  ],\n",
       "        [0.9980568 ],\n",
       "        [1.        ],\n",
       "        [0.9623788 ],\n",
       "        [0.99999857],\n",
       "        [0.99999577],\n",
       "        [0.01908931],\n",
       "        [0.9999651 ],\n",
       "        [0.9986043 ],\n",
       "        [1.        ],\n",
       "        [0.95204186],\n",
       "        [1.        ],\n",
       "        [0.9999982 ],\n",
       "        [1.        ]], dtype=float32)}"
      ]
     },
     "execution_count": 122,
     "metadata": {},
     "output_type": "execute_result"
    }
   ],
   "source": [
    "results"
   ]
  },
  {
   "cell_type": "markdown",
   "metadata": {},
   "source": [
    "## 10.2 Convert Predictions into Classes"
   ]
  },
  {
   "cell_type": "code",
   "execution_count": 123,
   "metadata": {
    "jupyter": {
     "source_hidden": true
    },
    "scrolled": true,
    "tags": []
   },
   "outputs": [
    {
     "data": {
      "text/plain": [
       "{'recording_00.mp3': [0,\n",
       "  0,\n",
       "  0,\n",
       "  0,\n",
       "  0,\n",
       "  0,\n",
       "  0,\n",
       "  0,\n",
       "  0,\n",
       "  0,\n",
       "  0,\n",
       "  0,\n",
       "  0,\n",
       "  1,\n",
       "  0,\n",
       "  0,\n",
       "  0,\n",
       "  1,\n",
       "  1,\n",
       "  1,\n",
       "  1,\n",
       "  0,\n",
       "  1,\n",
       "  0,\n",
       "  0,\n",
       "  1,\n",
       "  0,\n",
       "  1,\n",
       "  1,\n",
       "  1],\n",
       " 'recording_01.mp3': [0,\n",
       "  0,\n",
       "  0,\n",
       "  0,\n",
       "  0,\n",
       "  0,\n",
       "  0,\n",
       "  0,\n",
       "  0,\n",
       "  0,\n",
       "  0,\n",
       "  0,\n",
       "  0,\n",
       "  0,\n",
       "  0,\n",
       "  0,\n",
       "  0,\n",
       "  0,\n",
       "  0,\n",
       "  0,\n",
       "  0,\n",
       "  0,\n",
       "  0,\n",
       "  0,\n",
       "  0,\n",
       "  0,\n",
       "  0,\n",
       "  0,\n",
       "  0,\n",
       "  0,\n",
       "  0,\n",
       "  0,\n",
       "  0],\n",
       " 'recording_03.mp3': [1, 0, 1, 0, 1, 1, 1, 1, 1, 1, 0],\n",
       " 'recording_04.mp3': [0,\n",
       "  1,\n",
       "  0,\n",
       "  1,\n",
       "  1,\n",
       "  0,\n",
       "  0,\n",
       "  0,\n",
       "  1,\n",
       "  0,\n",
       "  1,\n",
       "  1,\n",
       "  0,\n",
       "  0,\n",
       "  1,\n",
       "  0,\n",
       "  1,\n",
       "  0,\n",
       "  1,\n",
       "  0,\n",
       "  0,\n",
       "  0,\n",
       "  0,\n",
       "  0,\n",
       "  1,\n",
       "  0,\n",
       "  0,\n",
       "  0],\n",
       " 'recording_05.mp3': [1,\n",
       "  1,\n",
       "  0,\n",
       "  0,\n",
       "  0,\n",
       "  0,\n",
       "  0,\n",
       "  0,\n",
       "  0,\n",
       "  0,\n",
       "  0,\n",
       "  0,\n",
       "  1,\n",
       "  1,\n",
       "  0,\n",
       "  0,\n",
       "  0,\n",
       "  0,\n",
       "  1,\n",
       "  0,\n",
       "  1,\n",
       "  0,\n",
       "  0,\n",
       "  0,\n",
       "  0,\n",
       "  0,\n",
       "  0,\n",
       "  1,\n",
       "  0,\n",
       "  0,\n",
       "  1,\n",
       "  0,\n",
       "  0,\n",
       "  1,\n",
       "  1,\n",
       "  0,\n",
       "  0,\n",
       "  0,\n",
       "  0,\n",
       "  0],\n",
       " 'recording_06.mp3': [1,\n",
       "  1,\n",
       "  1,\n",
       "  1,\n",
       "  1,\n",
       "  1,\n",
       "  1,\n",
       "  1,\n",
       "  1,\n",
       "  1,\n",
       "  1,\n",
       "  1,\n",
       "  1,\n",
       "  1,\n",
       "  1,\n",
       "  1,\n",
       "  1,\n",
       "  1,\n",
       "  1,\n",
       "  1,\n",
       "  1,\n",
       "  1,\n",
       "  1,\n",
       "  1,\n",
       "  1,\n",
       "  1,\n",
       "  1,\n",
       "  1],\n",
       " 'recording_07.mp3': [0,\n",
       "  0,\n",
       "  0,\n",
       "  0,\n",
       "  0,\n",
       "  0,\n",
       "  0,\n",
       "  0,\n",
       "  0,\n",
       "  0,\n",
       "  0,\n",
       "  0,\n",
       "  0,\n",
       "  0,\n",
       "  0,\n",
       "  0,\n",
       "  0,\n",
       "  0,\n",
       "  0,\n",
       "  0,\n",
       "  0,\n",
       "  0,\n",
       "  0,\n",
       "  0,\n",
       "  0,\n",
       "  0,\n",
       "  0,\n",
       "  0,\n",
       "  0,\n",
       "  0,\n",
       "  0,\n",
       "  0,\n",
       "  0,\n",
       "  0,\n",
       "  0,\n",
       "  0,\n",
       "  0,\n",
       "  0],\n",
       " 'recording_08.mp3': [0,\n",
       "  1,\n",
       "  1,\n",
       "  0,\n",
       "  1,\n",
       "  0,\n",
       "  1,\n",
       "  0,\n",
       "  1,\n",
       "  1,\n",
       "  1,\n",
       "  0,\n",
       "  1,\n",
       "  1,\n",
       "  0,\n",
       "  1,\n",
       "  1,\n",
       "  1,\n",
       "  0,\n",
       "  1,\n",
       "  1,\n",
       "  1]}"
      ]
     },
     "execution_count": 123,
     "metadata": {},
     "output_type": "execute_result"
    }
   ],
   "source": [
    "class_preds = {}\n",
    "for file, logits in results.items():\n",
    "    class_preds[file] = [1 if prediction > 0.99 else 0 for prediction in logits]\n",
    "class_preds"
   ]
  },
  {
   "cell_type": "markdown",
   "metadata": {},
   "source": [
    "## 10.3 Group Consecutive Detections"
   ]
  },
  {
   "cell_type": "code",
   "execution_count": 124,
   "metadata": {
    "jupyter": {
     "source_hidden": true
    },
    "scrolled": true,
    "tags": []
   },
   "outputs": [
    {
     "data": {
      "text/plain": [
       "{'recording_00.mp3': 5,\n",
       " 'recording_01.mp3': 0,\n",
       " 'recording_03.mp3': 3,\n",
       " 'recording_04.mp3': 8,\n",
       " 'recording_05.mp3': 7,\n",
       " 'recording_06.mp3': 1,\n",
       " 'recording_07.mp3': 0,\n",
       " 'recording_08.mp3': 7}"
      ]
     },
     "execution_count": 124,
     "metadata": {},
     "output_type": "execute_result"
    }
   ],
   "source": [
    "postprocessed = {}\n",
    "for file, scores in class_preds.items():\n",
    "    postprocessed[file] = tf.math.reduce_sum([key for key, group in groupby(scores)]).numpy()\n",
    "postprocessed"
   ]
  },
  {
   "cell_type": "markdown",
   "metadata": {},
   "source": [
    "# 11. Export Results"
   ]
  },
  {
   "cell_type": "code",
   "execution_count": 125,
   "metadata": {
    "jupyter": {
     "source_hidden": true
    }
   },
   "outputs": [],
   "source": [
    "import csv"
   ]
  },
  {
   "cell_type": "code",
   "execution_count": 126,
   "metadata": {
    "jupyter": {
     "source_hidden": true
    },
    "tags": []
   },
   "outputs": [],
   "source": [
    "with open('results.csv', 'w', newline='') as f:\n",
    "    writer = csv.writer(f, delimiter=',')\n",
    "    writer.writerow(['recording', 'capuchin_calls'])\n",
    "    for key, value in postprocessed.items():\n",
    "        writer.writerow([key, value])"
   ]
  }
 ],
 "metadata": {
  "kernelspec": {
   "display_name": "Python 3.10.6 64-bit",
   "language": "python",
   "name": "python3"
  },
  "language_info": {
   "codemirror_mode": {
    "name": "ipython",
    "version": 3
   },
   "file_extension": ".py",
   "mimetype": "text/x-python",
   "name": "python",
   "nbconvert_exporter": "python",
   "pygments_lexer": "ipython3",
   "version": "3.10.6"
  },
  "vscode": {
   "interpreter": {
    "hash": "9daa8ad9b90bd0d18a02f35c27b8246e0a80a48f1f052f371036ef306ea2eaac"
   }
  }
 },
 "nbformat": 4,
 "nbformat_minor": 4
}
